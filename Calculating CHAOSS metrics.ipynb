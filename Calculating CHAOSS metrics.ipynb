{
 "cells": [
  {
   "cell_type": "markdown",
   "metadata": {},
   "source": [
    "## CHAOSS METRICS\n",
    "\n",
    "This is an attempt to map all the Metrics that manuscripts produces currently. I am not imepelemting this directly into manuscripts, because of the following reasons:\n",
    "- I think I need to test a bit more how the new functions will work with the current metrics to be calculated\n",
    "- The functions and classes that are used currently in manuscripts are quite different than how we are calculating the new metrics and the old ones using new functions. Hence the new functions cannot be directly plugged in."
   ]
  },
  {
   "cell_type": "code",
   "execution_count": 20,
   "metadata": {},
   "outputs": [],
   "source": [
    "from manuscripts2.new_functions import EQCC, Index, calculate_bmi, buckets_to_df\n",
    "from manuscripts2.derived_classes import Issues, PullRequests\n",
    "\n",
    "from elasticsearch import Elasticsearch\n",
    "# utility and support modules\n",
    "from pprint import pprint\n",
    "from datetime import datetime, timezone, timedelta\n",
    "\n",
    "import pandas as pd\n",
    "# declare the necessary variables\n",
    "es = Elasticsearch(\"http://localhost:9200/\")\n",
    "\n",
    "github_data_source = \"aima_github\"\n",
    "git_data_source = \"aima_git\"\n",
    "\n",
    "github_index = Index(index=github_data_source)\n",
    "git_index = Index(index=git_data_source)\n",
    "\n",
    "start_date = datetime(2015, 1, 1)\n",
    "end_date = datetime.now()\n",
    "end_date = end_date.replace(hour=0, minute=0, second=0, microsecond=0)"
   ]
  },
  {
   "cell_type": "markdown",
   "metadata": {},
   "source": [
    "[Here is the PDF of aima_python that is generated when we create a report using manuscripts as it is.](https://github.com/aswanipranjal/gsoc-manuscripts/blob/master/aima_python.pdf)"
   ]
  },
  {
   "cell_type": "markdown",
   "metadata": {},
   "source": [
    "### OVERVIEW\n",
    "\n",
    "- Activity metrics: we have to get the trend for these:\n",
    "\t- Closed PRs\n",
    "\t- Open PRs\n",
    "\t- Issues Open\n",
    "\t- Issues Closed\n",
    "\t- Commits created \n",
    "   \n",
    "\n",
    "- Authors per interval selected: description: average number of developers per month by quarters (so we have the average number of developers per month during those three months). If the approach is to work at the level of month, then just the number of developers per month.\n",
    "\n",
    "\n",
    "- BMI metrics: a little introduction about BMI- here, BMI calculates the efficiency of creating/closing Issues and PRs.\n",
    "\t- BMI of PRs: closed PRs/ submitted PRs in total and a trend showing the same ratio over the said interval(month, week, year) in the given range of time.\n",
    "\t- BMI for issues: same as PRs but for issues.\n",
    "\n",
    "\n",
    "- Time to close metrics:\n",
    "\t- Median for Days to close a PR.\n",
    "\t- Median for Days to close an issue."
   ]
  },
  {
   "cell_type": "code",
   "execution_count": 21,
   "metadata": {},
   "outputs": [
    {
     "name": "stdout",
     "output_type": "stream",
     "text": [
      "Trend for month:  (6, -50)\n",
      "Trend for quarter:  (15, -893)\n"
     ]
    }
   ],
   "source": [
    "closed_pr = PullRequests(github_index)\n",
    "closed_pr.is_closed()\n",
    "# get trend by month:\n",
    "closed_pr.get_cardinality(\"id_in_repo\").by_period()\n",
    "print(\"Trend for month: \", closed_pr.get_trend())\n",
    "\n",
    "# get trend by quarter:\n",
    "closed_pr.get_cardinality(\"id_in_repo\").by_period(period=\"quarter\")\n",
    "print(\"Trend for quarter: \", closed_pr.get_trend())"
   ]
  },
  {
   "cell_type": "code",
   "execution_count": 22,
   "metadata": {},
   "outputs": [
    {
     "name": "stdout",
     "output_type": "stream",
     "text": [
      "Trend for month:  (2, -250)\n",
      "Trend for quarter:  (18, -738)\n"
     ]
    }
   ],
   "source": [
    "opened_pr = PullRequests(github_index)\n",
    "# get trend by month:\n",
    "opened_pr.get_cardinality(\"id_in_repo\").by_period()\n",
    "print(\"Trend for month: \", opened_pr.get_trend())\n",
    "# get trend by quarter:\n",
    "opened_pr.get_cardinality(\"id_in_repo\").by_period(period=\"quarter\")\n",
    "print(\"Trend for quarter: \", opened_pr.get_trend())"
   ]
  },
  {
   "cell_type": "code",
   "execution_count": 23,
   "metadata": {},
   "outputs": [
    {
     "name": "stdout",
     "output_type": "stream",
     "text": [
      "Trend for month:  (4, 0)\n",
      "Trend for quarter:  (6, -716)\n"
     ]
    }
   ],
   "source": [
    "closed_issues = Issues(github_index)\n",
    "closed_issues.is_closed()\n",
    "# get trend by month:\n",
    "closed_issues.get_cardinality(\"id_in_repo\").by_period(field=\"closed_at\")\n",
    "print(\"Trend for month: \", closed_issues.get_trend())\n",
    "# get trend by quarter:\n",
    "closed_issues.get_cardinality(\"id_in_repo\").by_period(period=\"quarter\")\n",
    "print(\"Trend for quarter: \", closed_issues.get_trend())"
   ]
  },
  {
   "cell_type": "code",
   "execution_count": 24,
   "metadata": {},
   "outputs": [
    {
     "name": "stdout",
     "output_type": "stream",
     "text": [
      "Trend for month:  (2, -400)\n",
      "Trend for quarter:  (12, -508)\n"
     ]
    }
   ],
   "source": [
    "open_issues = Issues(github_index)\n",
    "open_issues.get_cardinality(\"id_in_repo\").by_period()\n",
    "print(\"Trend for month: \", open_issues.get_trend())\n",
    "# get trend by quarter:\n",
    "open_issues.get_cardinality(\"id_in_repo\").by_period(period=\"quarter\")\n",
    "print(\"Trend for quarter: \", open_issues.get_trend())"
   ]
  },
  {
   "cell_type": "code",
   "execution_count": 25,
   "metadata": {},
   "outputs": [
    {
     "name": "stdout",
     "output_type": "stream",
     "text": [
      "Trend for month:  (8, 37)\n",
      "Trend for quarter:  (13, -792)\n"
     ]
    }
   ],
   "source": [
    "commits = EQCC(git_index)\n",
    "commits.get_cardinality(\"hash\").by_period()\n",
    "print(\"Trend for month: \", commits.get_trend())\n",
    "\n",
    "commits.get_cardinality(\"hash\").by_period(period=\"quarter\")\n",
    "print(\"Trend for quarter: \", commits.get_trend())"
   ]
  },
  {
   "cell_type": "markdown",
   "metadata": {},
   "source": [
    "The values below are not displayed in the PDF generated, for some reason. I will be looking into it. I have checked these values while debugging report.py file and analysing the functions, so I assure you that they are correct (apart from open and closed PRs)."
   ]
  },
  {
   "cell_type": "code",
   "execution_count": 26,
   "metadata": {},
   "outputs": [
    {
     "data": {
      "text/plain": [
       "0"
      ]
     },
     "execution_count": 26,
     "metadata": {},
     "output_type": "execute_result"
    }
   ],
   "source": [
    "# Issues closed in the last month:\n",
    "issues = Issues(github_index)\n",
    "issues.is_closed()\n",
    "issues.get_cardinality(\"id\")\n",
    "# here taking a month made up of 30 days on an average\n",
    "previous_month_date = end_date - timedelta(days=30)\n",
    "issues.since(field=\"closed_at\", start=previous_month_date).until(field=\"closed_at\", end=end_date)\n",
    "issues.get_aggs()"
   ]
  },
  {
   "cell_type": "code",
   "execution_count": 27,
   "metadata": {},
   "outputs": [
    {
     "data": {
      "text/plain": [
       "0"
      ]
     },
     "execution_count": 27,
     "metadata": {},
     "output_type": "execute_result"
    }
   ],
   "source": [
    "# Issues opened in the last month:\n",
    "issues = Issues(github_index)\n",
    "issues.get_cardinality(\"id\")\n",
    "# May has 31 days\n",
    "previous_month_date = end_date - timedelta(days=31)\n",
    "issues.since(start=previous_month_date).until(end=end_date)\n",
    "issues.get_aggs()"
   ]
  },
  {
   "cell_type": "markdown",
   "metadata": {},
   "source": [
    "There is still a little problem on how the dates are being calculated, hence these values differ from the origin values 5 and 8 respectively"
   ]
  },
  {
   "cell_type": "code",
   "execution_count": 29,
   "metadata": {},
   "outputs": [
    {
     "data": {
      "text/plain": [
       "4"
      ]
     },
     "execution_count": 29,
     "metadata": {},
     "output_type": "execute_result"
    }
   ],
   "source": [
    "# PRs closed in the last month:\n",
    "pr = PullRequests(github_index)\n",
    "pr.is_closed()\n",
    "pr.get_cardinality(\"id\")\n",
    "# May has 31 days\n",
    "previous_month_date = end_date - timedelta(days=31)\n",
    "pr.since(field=\"closed_at\", start=previous_month_date).until(field=\"closed_at\", end=end_date)\n",
    "pr.get_aggs()"
   ]
  },
  {
   "cell_type": "code",
   "execution_count": 30,
   "metadata": {},
   "outputs": [
    {
     "data": {
      "text/plain": [
       "7"
      ]
     },
     "execution_count": 30,
     "metadata": {},
     "output_type": "execute_result"
    }
   ],
   "source": [
    "# PRs opened in the last month:\n",
    "pr = PullRequests(github_index)\n",
    "pr.get_cardinality(\"id\")\n",
    "# May has 31 days\n",
    "previous_month_date = end_date - timedelta(days=31)\n",
    "pr.since(start=previous_month_date).until(end=end_date)\n",
    "pr.get_aggs()"
   ]
  },
  {
   "cell_type": "code",
   "execution_count": 32,
   "metadata": {},
   "outputs": [
    {
     "data": {
      "text/plain": [
       "2.1050000190734863"
      ]
     },
     "execution_count": 32,
     "metadata": {},
     "output_type": "execute_result"
    }
   ],
   "source": [
    "# Percentile PR closed\n",
    "PR = PullRequests(github_index)\n",
    "PR.is_closed()\n",
    "PR.get_percentile(\"time_to_close_days\")\n",
    "# May has 31 days\n",
    "previous_month_date = end_date - timedelta(days=31)\n",
    "PR.since(start=previous_month_date).until(end=end_date)\n",
    "PR.get_aggs()"
   ]
  },
  {
   "cell_type": "code",
   "execution_count": 33,
   "metadata": {},
   "outputs": [],
   "source": [
    "# Percentile issues closed\n",
    "issues = Issues(github_index)\n",
    "issues.is_closed()\n",
    "issues.get_percentile(\"time_to_close_days\")\n",
    "# May has 31 days\n",
    "previous_month_date = end_date - timedelta(days=31)\n",
    "issues.since(start=previous_month_date).until(end=end_date)\n",
    "issues.get_aggs()"
   ]
  },
  {
   "cell_type": "markdown",
   "metadata": {},
   "source": [
    "There is no output for above because the answer is None!"
   ]
  },
  {
   "cell_type": "markdown",
   "metadata": {},
   "source": [
    "### Communication Channels\n",
    "\n",
    "Nothing here because all the communication for git and github happens via Issues and PRs"
   ]
  },
  {
   "cell_type": "markdown",
   "metadata": {},
   "source": [
    "### Project Activities"
   ]
  },
  {
   "cell_type": "code",
   "execution_count": 37,
   "metadata": {},
   "outputs": [
    {
     "name": "stdout",
     "output_type": "stream",
     "text": [
      "                        date  value      unixtime\n",
      "0  2015-01-01 00:00:00+00:00      0  1.420070e+09\n",
      "1  2015-02-01 00:00:00+00:00      0  1.422749e+09\n",
      "2  2015-03-01 00:00:00+00:00      0  1.425168e+09\n",
      "3  2015-04-01 00:00:00+00:00      0  1.427846e+09\n",
      "4  2015-05-01 00:00:00+00:00      0  1.430438e+09\n",
      "5  2015-06-01 00:00:00+00:00      0  1.433117e+09\n",
      "6  2015-07-01 00:00:00+00:00      0  1.435709e+09\n",
      "7  2015-08-01 00:00:00+00:00      0  1.438387e+09\n",
      "8  2015-09-01 00:00:00+00:00      0  1.441066e+09\n",
      "9  2015-10-01 00:00:00+00:00      0  1.443658e+09\n",
      "10 2015-11-01 00:00:00+00:00      0  1.446336e+09\n",
      "11 2015-12-01 00:00:00+00:00      0  1.448928e+09\n",
      "12 2016-01-01 00:00:00+00:00      0  1.451606e+09\n",
      "13 2016-02-01 00:00:00+00:00      3  1.454285e+09\n",
      "14 2016-03-01 00:00:00+00:00    311  1.456790e+09\n",
      "15 2016-04-01 00:00:00+00:00     74  1.459469e+09\n",
      "16 2016-05-01 00:00:00+00:00     14  1.462061e+09\n",
      "17 2016-06-01 00:00:00+00:00     40  1.464739e+09\n",
      "18 2016-07-01 00:00:00+00:00     24  1.467331e+09\n",
      "19 2016-08-01 00:00:00+00:00      7  1.470010e+09\n",
      "20 2016-09-01 00:00:00+00:00      6  1.472688e+09\n",
      "21 2016-10-01 00:00:00+00:00      0  1.475280e+09\n",
      "22 2016-11-01 00:00:00+00:00      0  1.477958e+09\n",
      "23 2016-12-01 00:00:00+00:00      0  1.480550e+09\n",
      "24 2017-01-01 00:00:00+00:00      2  1.483229e+09\n",
      "25 2017-02-01 00:00:00+00:00      0  1.485907e+09\n",
      "26 2017-03-01 00:00:00+00:00     80  1.488326e+09\n",
      "27 2017-04-01 00:00:00+00:00     41  1.491005e+09\n",
      "28 2017-05-01 00:00:00+00:00     19  1.493597e+09\n",
      "29 2017-06-01 00:00:00+00:00     28  1.496275e+09\n",
      "30 2017-07-01 00:00:00+00:00     23  1.498867e+09\n",
      "31 2017-08-01 00:00:00+00:00     27  1.501546e+09\n",
      "32 2017-09-01 00:00:00+00:00      8  1.504224e+09\n",
      "33 2017-10-01 00:00:00+00:00      3  1.506816e+09\n",
      "34 2017-11-01 00:00:00+00:00      0  1.509494e+09\n",
      "35 2017-12-01 00:00:00+00:00      9  1.512086e+09\n",
      "36 2018-01-01 00:00:00+00:00     14  1.514765e+09\n",
      "37 2018-02-01 00:00:00+00:00     42  1.517443e+09\n",
      "38 2018-03-01 00:00:00+00:00     60  1.519862e+09\n",
      "39 2018-04-01 00:00:00+00:00      5  1.522541e+09\n",
      "40 2018-05-01 00:00:00+00:00      8  1.525133e+09\n",
      "41 2018-06-01 00:00:00+00:00      0  1.527811e+09\n"
     ]
    }
   ],
   "source": [
    "# number of commits made by month \n",
    "commits = EQCC(git_index)\n",
    "commits.since(start=start_date).until(end=end_date)\n",
    "commits.get_cardinality(\"hash\").by_period()\n",
    "print(pd.DataFrame(commits.get_ts()))"
   ]
  },
  {
   "cell_type": "code",
   "execution_count": 40,
   "metadata": {},
   "outputs": [
    {
     "name": "stdout",
     "output_type": "stream",
     "text": [
      "                         date  value      unixtime\n",
      "0   2007-06-01 00:00:00+00:00      1  1.180656e+09\n",
      "1   2007-07-01 00:00:00+00:00      1  1.183248e+09\n",
      "2   2007-08-01 00:00:00+00:00      0  1.185926e+09\n",
      "3   2007-09-01 00:00:00+00:00      0  1.188605e+09\n",
      "4   2007-10-01 00:00:00+00:00      0  1.191197e+09\n",
      "5   2007-11-01 00:00:00+00:00      1  1.193875e+09\n",
      "6   2007-12-01 00:00:00+00:00      0  1.196467e+09\n",
      "7   2008-01-01 00:00:00+00:00      1  1.199146e+09\n",
      "8   2008-02-01 00:00:00+00:00      0  1.201824e+09\n",
      "9   2008-03-01 00:00:00+00:00      0  1.204330e+09\n",
      "10  2008-04-01 00:00:00+00:00      0  1.207008e+09\n",
      "11  2008-05-01 00:00:00+00:00      0  1.209600e+09\n",
      "12  2008-06-01 00:00:00+00:00      0  1.212278e+09\n",
      "13  2008-07-01 00:00:00+00:00      0  1.214870e+09\n",
      "14  2008-08-01 00:00:00+00:00      0  1.217549e+09\n",
      "15  2008-09-01 00:00:00+00:00      0  1.220227e+09\n",
      "16  2008-10-01 00:00:00+00:00      0  1.222819e+09\n",
      "17  2008-11-01 00:00:00+00:00      0  1.225498e+09\n",
      "18  2008-12-01 00:00:00+00:00      0  1.228090e+09\n",
      "19  2009-01-01 00:00:00+00:00      0  1.230768e+09\n",
      "20  2009-02-01 00:00:00+00:00      0  1.233446e+09\n",
      "21  2009-03-01 00:00:00+00:00      0  1.235866e+09\n",
      "22  2009-04-01 00:00:00+00:00      0  1.238544e+09\n",
      "23  2009-05-01 00:00:00+00:00      0  1.241136e+09\n",
      "24  2009-06-01 00:00:00+00:00      0  1.243814e+09\n",
      "25  2009-07-01 00:00:00+00:00      0  1.246406e+09\n",
      "26  2009-08-01 00:00:00+00:00      0  1.249085e+09\n",
      "27  2009-09-01 00:00:00+00:00      0  1.251763e+09\n",
      "28  2009-10-01 00:00:00+00:00      0  1.254355e+09\n",
      "29  2009-11-01 00:00:00+00:00      0  1.257034e+09\n",
      "..                        ...    ...           ...\n",
      "102 2015-12-01 00:00:00+00:00      0  1.448928e+09\n",
      "103 2016-01-01 00:00:00+00:00      0  1.451606e+09\n",
      "104 2016-02-01 00:00:00+00:00      1  1.454285e+09\n",
      "105 2016-03-01 00:00:00+00:00     27  1.456790e+09\n",
      "106 2016-04-01 00:00:00+00:00      9  1.459469e+09\n",
      "107 2016-05-01 00:00:00+00:00      8  1.462061e+09\n",
      "108 2016-06-01 00:00:00+00:00      3  1.464739e+09\n",
      "109 2016-07-01 00:00:00+00:00      3  1.467331e+09\n",
      "110 2016-08-01 00:00:00+00:00      3  1.470010e+09\n",
      "111 2016-09-01 00:00:00+00:00      4  1.472688e+09\n",
      "112 2016-10-01 00:00:00+00:00      0  1.475280e+09\n",
      "113 2016-11-01 00:00:00+00:00      0  1.477958e+09\n",
      "114 2016-12-01 00:00:00+00:00      0  1.480550e+09\n",
      "115 2017-01-01 00:00:00+00:00      2  1.483229e+09\n",
      "116 2017-02-01 00:00:00+00:00      0  1.485907e+09\n",
      "117 2017-03-01 00:00:00+00:00     25  1.488326e+09\n",
      "118 2017-04-01 00:00:00+00:00     11  1.491005e+09\n",
      "119 2017-05-01 00:00:00+00:00      8  1.493597e+09\n",
      "120 2017-06-01 00:00:00+00:00      3  1.496275e+09\n",
      "121 2017-07-01 00:00:00+00:00      2  1.498867e+09\n",
      "122 2017-08-01 00:00:00+00:00      4  1.501546e+09\n",
      "123 2017-09-01 00:00:00+00:00      3  1.504224e+09\n",
      "124 2017-10-01 00:00:00+00:00      1  1.506816e+09\n",
      "125 2017-11-01 00:00:00+00:00      0  1.509494e+09\n",
      "126 2017-12-01 00:00:00+00:00      7  1.512086e+09\n",
      "127 2018-01-01 00:00:00+00:00      7  1.514765e+09\n",
      "128 2018-02-01 00:00:00+00:00     13  1.517443e+09\n",
      "129 2018-03-01 00:00:00+00:00     16  1.519862e+09\n",
      "130 2018-04-01 00:00:00+00:00      3  1.522541e+09\n",
      "131 2018-05-01 00:00:00+00:00      4  1.525133e+09\n",
      "\n",
      "[132 rows x 3 columns]\n"
     ]
    }
   ],
   "source": [
    "# number of active authors per month\n",
    "authors = EQCC(git_index)\n",
    "authors.get_cardinality(\"author_uuid\").by_period()\n",
    "print(pd.DataFrame(authors.get_ts()))"
   ]
  },
  {
   "cell_type": "markdown",
   "metadata": {},
   "source": [
    "### Community"
   ]
  },
  {
   "cell_type": "code",
   "execution_count": 39,
   "metadata": {},
   "outputs": [
    {
     "name": "stdout",
     "output_type": "stream",
     "text": [
      "                        date  value      unixtime\n",
      "0  2015-01-01 00:00:00+00:00      0  1.420070e+09\n",
      "1  2015-02-01 00:00:00+00:00      0  1.422749e+09\n",
      "2  2015-03-01 00:00:00+00:00      0  1.425168e+09\n",
      "3  2015-04-01 00:00:00+00:00      0  1.427846e+09\n",
      "4  2015-05-01 00:00:00+00:00      0  1.430438e+09\n",
      "5  2015-06-01 00:00:00+00:00      0  1.433117e+09\n",
      "6  2015-07-01 00:00:00+00:00      0  1.435709e+09\n",
      "7  2015-08-01 00:00:00+00:00      0  1.438387e+09\n",
      "8  2015-09-01 00:00:00+00:00      0  1.441066e+09\n",
      "9  2015-10-01 00:00:00+00:00      0  1.443658e+09\n",
      "10 2015-11-01 00:00:00+00:00      0  1.446336e+09\n",
      "11 2015-12-01 00:00:00+00:00      0  1.448928e+09\n",
      "12 2016-01-01 00:00:00+00:00      0  1.451606e+09\n",
      "13 2016-02-01 00:00:00+00:00      1  1.454285e+09\n",
      "14 2016-03-01 00:00:00+00:00     27  1.456790e+09\n",
      "15 2016-04-01 00:00:00+00:00      9  1.459469e+09\n",
      "16 2016-05-01 00:00:00+00:00      8  1.462061e+09\n",
      "17 2016-06-01 00:00:00+00:00      3  1.464739e+09\n",
      "18 2016-07-01 00:00:00+00:00      3  1.467331e+09\n",
      "19 2016-08-01 00:00:00+00:00      3  1.470010e+09\n",
      "20 2016-09-01 00:00:00+00:00      4  1.472688e+09\n",
      "21 2016-10-01 00:00:00+00:00      0  1.475280e+09\n",
      "22 2016-11-01 00:00:00+00:00      0  1.477958e+09\n",
      "23 2016-12-01 00:00:00+00:00      0  1.480550e+09\n",
      "24 2017-01-01 00:00:00+00:00      2  1.483229e+09\n",
      "25 2017-02-01 00:00:00+00:00      0  1.485907e+09\n",
      "26 2017-03-01 00:00:00+00:00     25  1.488326e+09\n",
      "27 2017-04-01 00:00:00+00:00     11  1.491005e+09\n",
      "28 2017-05-01 00:00:00+00:00      8  1.493597e+09\n",
      "29 2017-06-01 00:00:00+00:00      3  1.496275e+09\n",
      "30 2017-07-01 00:00:00+00:00      2  1.498867e+09\n",
      "31 2017-08-01 00:00:00+00:00      4  1.501546e+09\n",
      "32 2017-09-01 00:00:00+00:00      3  1.504224e+09\n",
      "33 2017-10-01 00:00:00+00:00      1  1.506816e+09\n",
      "34 2017-11-01 00:00:00+00:00      0  1.509494e+09\n",
      "35 2017-12-01 00:00:00+00:00      7  1.512086e+09\n",
      "36 2018-01-01 00:00:00+00:00      7  1.514765e+09\n",
      "37 2018-02-01 00:00:00+00:00     13  1.517443e+09\n",
      "38 2018-03-01 00:00:00+00:00     16  1.519862e+09\n",
      "39 2018-04-01 00:00:00+00:00      3  1.522541e+09\n",
      "40 2018-05-01 00:00:00+00:00      4  1.525133e+09\n",
      "41 2018-06-01 00:00:00+00:00      0  1.527811e+09\n"
     ]
    }
   ],
   "source": [
    "# number of active authors by month\n",
    "commits = EQCC(git_index)\n",
    "commits.since(start=start_date).until(end=end_date)\n",
    "commits.get_cardinality(\"author_uuid\").by_period()\n",
    "print(pd.DataFrame(commits.get_ts()))"
   ]
  },
  {
   "cell_type": "code",
   "execution_count": 42,
   "metadata": {},
   "outputs": [
    {
     "name": "stdout",
     "output_type": "stream",
     "text": [
      "   doc_count              key\n",
      "0          2  Aman Deep Singh\n",
      "1          1              DKE\n"
     ]
    }
   ],
   "source": [
    "# Top committers in the previous month:\n",
    "authors = EQCC( git_index)\n",
    "previous_month_date = end_date - timedelta(days=31)\n",
    "authors.since(start=previous_month_date).until(end=end_date)\n",
    "authors.get_terms(field=\"author_name\")\n",
    "print(buckets_to_df(authors.fetch_aggregation_results()['aggregations'][str(authors.parent_id-1)]['buckets']))"
   ]
  },
  {
   "cell_type": "code",
   "execution_count": 43,
   "metadata": {},
   "outputs": [
    {
     "name": "stdout",
     "output_type": "stream",
     "text": [
      "   doc_count      key\n",
      "0          3  Unknown\n"
     ]
    }
   ],
   "source": [
    "# Top commiting orgs in the previous month:\n",
    "orgs = EQCC(git_index)\n",
    "previous_month_date = end_date - timedelta(days=31)\n",
    "orgs.since(start=previous_month_date).until(end=end_date)\n",
    "orgs.get_terms(field=\"author_org_name\")\n",
    "print(buckets_to_df(orgs.fetch_aggregation_results()['aggregations'][str(authors.parent_id-1)]['buckets']))"
   ]
  },
  {
   "cell_type": "markdown",
   "metadata": {},
   "source": [
    "### Process"
   ]
  },
  {
   "cell_type": "code",
   "execution_count": 44,
   "metadata": {},
   "outputs": [
    {
     "name": "stdout",
     "output_type": "stream",
     "text": [
      "     Period  Closed/Submitted\n",
      "0    2015-1          0.000000\n",
      "1    2015-2          0.000000\n",
      "2    2015-3          0.000000\n",
      "3    2015-4          0.000000\n",
      "4    2015-5          0.000000\n",
      "5    2015-6          0.000000\n",
      "6    2015-7          0.000000\n",
      "7    2015-8          0.000000\n",
      "8    2015-9          0.000000\n",
      "9   2015-10          0.000000\n",
      "10  2015-11          0.000000\n",
      "11  2015-12          0.000000\n",
      "12   2016-1          0.000000\n",
      "13   2016-2          1.000000\n",
      "14   2016-3          0.923077\n",
      "15   2016-4          0.750000\n",
      "16   2016-5          1.000000\n",
      "17   2016-6          1.000000\n",
      "18   2016-7          0.000000\n",
      "19   2016-8          1.000000\n",
      "20   2016-9          1.000000\n",
      "21  2016-10          1.000000\n",
      "22  2016-11          0.500000\n",
      "23  2016-12          0.000000\n",
      "24   2017-1          0.666667\n",
      "25   2017-2          0.666667\n",
      "26   2017-3          0.833333\n",
      "27   2017-4          0.933333\n",
      "28   2017-5          1.000000\n",
      "29   2017-6          0.714286\n",
      "30   2017-7          1.000000\n",
      "31   2017-8          0.727273\n",
      "32   2017-9          1.000000\n",
      "33  2017-10          0.000000\n",
      "34  2017-11          0.500000\n",
      "35  2017-12          0.375000\n",
      "36   2018-1          0.777778\n",
      "37   2018-2          0.760000\n",
      "38   2018-3          0.589744\n",
      "39   2018-4          0.600000\n",
      "40   2018-5          0.000000\n",
      "41   2018-6          0.000000\n"
     ]
    }
   ],
   "source": [
    "# Issues closed/ issues created\n",
    "\n",
    "closed_issues = Issues(github_index)\n",
    "closed_issues.since(start=start_date).until(end=end_date)\n",
    "closed_issues.is_closed()\n",
    "closed_issues.get_cardinality(\"id\").by_period()\n",
    "closed_ts = closed_issues.get_ts()\n",
    "\n",
    "opened_issues =Issues(github_index)\n",
    "opened_issues.since(start=start_date).until(end=end_date)\n",
    "opened_issues.get_cardinality(\"id\").by_period()\n",
    "opened_ts = opened_issues.get_ts()\n",
    "\n",
    "print(pd.DataFrame(calculate_bmi(closed_ts, opened_ts)))"
   ]
  },
  {
   "cell_type": "code",
   "execution_count": 45,
   "metadata": {},
   "outputs": [
    {
     "name": "stdout",
     "output_type": "stream",
     "text": [
      "     Period  Closed/Submitted\n",
      "0    2015-1          0.000000\n",
      "1    2015-2          0.000000\n",
      "2    2015-3          0.000000\n",
      "3    2015-4          0.000000\n",
      "4    2015-5          0.000000\n",
      "5    2015-6          0.000000\n",
      "6    2015-7          0.000000\n",
      "7    2015-8          0.000000\n",
      "8    2015-9          0.000000\n",
      "9   2015-10          0.000000\n",
      "10  2015-11          0.000000\n",
      "11  2015-12          0.000000\n",
      "12   2016-1          0.000000\n",
      "13   2016-2          0.000000\n",
      "14   2016-3          1.000000\n",
      "15   2016-4          1.000000\n",
      "16   2016-5          1.000000\n",
      "17   2016-6          1.000000\n",
      "18   2016-7          1.000000\n",
      "19   2016-8          1.000000\n",
      "20   2016-9          1.000000\n",
      "21  2016-10          1.000000\n",
      "22  2016-11          1.000000\n",
      "23  2016-12          1.000000\n",
      "24   2017-1          1.000000\n",
      "25   2017-2          1.000000\n",
      "26   2017-3          1.000000\n",
      "27   2017-4          1.000000\n",
      "28   2017-5          1.000000\n",
      "29   2017-6          1.000000\n",
      "30   2017-7          1.000000\n",
      "31   2017-8          1.000000\n",
      "32   2017-9          0.857143\n",
      "33  2017-10          1.000000\n",
      "34  2017-11          1.000000\n",
      "35  2017-12          1.000000\n",
      "36   2018-1          0.952381\n",
      "37   2018-2          0.981481\n",
      "38   2018-3          1.000000\n",
      "39   2018-4          1.000000\n",
      "40   2018-5          0.857143\n",
      "41   2018-6          0.000000\n"
     ]
    }
   ],
   "source": [
    "# PRs closed/ PRs submitted\n",
    "\n",
    "closed_pr = PullRequests(github_index)\n",
    "closed_pr.since(start=start_date).until(end=end_date)\n",
    "closed_pr.is_closed()\n",
    "closed_pr.get_cardinality(\"id\").by_period()\n",
    "closed_ts = closed_pr.get_ts()\n",
    "\n",
    "opened_pr = PullRequests(github_index)\n",
    "opened_pr.since(start=start_date).until(end=end_date)\n",
    "opened_pr.get_cardinality(\"id\").by_period()\n",
    "opened_ts = opened_pr.get_ts()\n",
    "\n",
    "print(pd.DataFrame(calculate_bmi(closed_ts, opened_ts)))"
   ]
  },
  {
   "cell_type": "code",
   "execution_count": 46,
   "metadata": {},
   "outputs": [
    {
     "name": "stdout",
     "output_type": "stream",
     "text": [
      "                        date       value      unixtime\n",
      "0  2015-01-01 00:00:00+00:00         NaN  1.420070e+09\n",
      "1  2015-02-01 00:00:00+00:00         NaN  1.422749e+09\n",
      "2  2015-03-01 00:00:00+00:00         NaN  1.425168e+09\n",
      "3  2015-04-01 00:00:00+00:00         NaN  1.427846e+09\n",
      "4  2015-05-01 00:00:00+00:00         NaN  1.430438e+09\n",
      "5  2015-06-01 00:00:00+00:00         NaN  1.433117e+09\n",
      "6  2015-07-01 00:00:00+00:00         NaN  1.435709e+09\n",
      "7  2015-08-01 00:00:00+00:00         NaN  1.438387e+09\n",
      "8  2015-09-01 00:00:00+00:00         NaN  1.441066e+09\n",
      "9  2015-10-01 00:00:00+00:00         NaN  1.443658e+09\n",
      "10 2015-11-01 00:00:00+00:00         NaN  1.446336e+09\n",
      "11 2015-12-01 00:00:00+00:00         NaN  1.448928e+09\n",
      "12 2016-01-01 00:00:00+00:00         NaN  1.451606e+09\n",
      "13 2016-02-01 00:00:00+00:00         NaN  1.454285e+09\n",
      "14 2016-03-01 00:00:00+00:00    1.375500  1.456790e+09\n",
      "15 2016-04-01 00:00:00+00:00    0.282105  1.459469e+09\n",
      "16 2016-05-01 00:00:00+00:00    1.386000  1.462061e+09\n",
      "17 2016-06-01 00:00:00+00:00    0.000000  1.464739e+09\n",
      "18 2016-07-01 00:00:00+00:00   13.687500  1.467331e+09\n",
      "19 2016-08-01 00:00:00+00:00    7.960000  1.470010e+09\n",
      "20 2016-09-01 00:00:00+00:00   33.848889  1.472688e+09\n",
      "21 2016-10-01 00:00:00+00:00  158.233337  1.475280e+09\n",
      "22 2016-11-01 00:00:00+00:00   55.095000  1.477958e+09\n",
      "23 2016-12-01 00:00:00+00:00   64.543334  1.480550e+09\n",
      "24 2017-01-01 00:00:00+00:00   28.395001  1.483229e+09\n",
      "25 2017-02-01 00:00:00+00:00    1.300000  1.485907e+09\n",
      "26 2017-03-01 00:00:00+00:00   20.420000  1.488326e+09\n",
      "27 2017-04-01 00:00:00+00:00   11.601842  1.491005e+09\n",
      "28 2017-05-01 00:00:00+00:00    1.137143  1.493597e+09\n",
      "29 2017-06-01 00:00:00+00:00    2.614194  1.496275e+09\n",
      "30 2017-07-01 00:00:00+00:00    1.858750  1.498867e+09\n",
      "31 2017-08-01 00:00:00+00:00    8.235758  1.501546e+09\n",
      "32 2017-09-01 00:00:00+00:00    1.745000  1.504224e+09\n",
      "33 2017-10-01 00:00:00+00:00    7.437500  1.506816e+09\n",
      "34 2017-11-01 00:00:00+00:00   18.720000  1.509494e+09\n",
      "35 2017-12-01 00:00:00+00:00    4.418571  1.512086e+09\n",
      "36 2018-01-01 00:00:00+00:00    6.578000  1.514765e+09\n",
      "37 2018-02-01 00:00:00+00:00    4.482830  1.517443e+09\n",
      "38 2018-03-01 00:00:00+00:00    2.147763  1.519862e+09\n",
      "39 2018-04-01 00:00:00+00:00    7.736667  1.522541e+09\n",
      "40 2018-05-01 00:00:00+00:00    3.226667  1.525133e+09\n",
      "41 2018-06-01 00:00:00+00:00         NaN  1.527811e+09\n"
     ]
    }
   ],
   "source": [
    "# days to close review(PR) average\n",
    "closed_pr = PullRequests(github_index)\n",
    "closed_pr.since(start=start_date).until(end=end_date)\n",
    "closed_pr.is_closed()\n",
    "closed_pr.get_average(\"time_to_close_days\").by_period()\n",
    "print(pd.DataFrame(closed_pr.get_ts()))"
   ]
  },
  {
   "cell_type": "code",
   "execution_count": 48,
   "metadata": {},
   "outputs": [
    {
     "name": "stdout",
     "output_type": "stream",
     "text": [
      "                        date       value      unixtime\n",
      "0  2015-01-01 00:00:00+00:00         NaN  1.420070e+09\n",
      "1  2015-02-01 00:00:00+00:00         NaN  1.422749e+09\n",
      "2  2015-03-01 00:00:00+00:00         NaN  1.425168e+09\n",
      "3  2015-04-01 00:00:00+00:00         NaN  1.427846e+09\n",
      "4  2015-05-01 00:00:00+00:00         NaN  1.430438e+09\n",
      "5  2015-06-01 00:00:00+00:00         NaN  1.433117e+09\n",
      "6  2015-07-01 00:00:00+00:00         NaN  1.435709e+09\n",
      "7  2015-08-01 00:00:00+00:00         NaN  1.438387e+09\n",
      "8  2015-09-01 00:00:00+00:00         NaN  1.441066e+09\n",
      "9  2015-10-01 00:00:00+00:00         NaN  1.443658e+09\n",
      "10 2015-11-01 00:00:00+00:00         NaN  1.446336e+09\n",
      "11 2015-12-01 00:00:00+00:00         NaN  1.448928e+09\n",
      "12 2016-01-01 00:00:00+00:00         NaN  1.451606e+09\n",
      "13 2016-02-01 00:00:00+00:00         NaN  1.454285e+09\n",
      "14 2016-03-01 00:00:00+00:00    0.465000  1.456790e+09\n",
      "15 2016-04-01 00:00:00+00:00    0.200000  1.459469e+09\n",
      "16 2016-05-01 00:00:00+00:00    0.600000  1.462061e+09\n",
      "17 2016-06-01 00:00:00+00:00    0.000000  1.464739e+09\n",
      "18 2016-07-01 00:00:00+00:00    0.000000  1.467331e+09\n",
      "19 2016-08-01 00:00:00+00:00    3.390000  1.470010e+09\n",
      "20 2016-09-01 00:00:00+00:00    6.610000  1.472688e+09\n",
      "21 2016-10-01 00:00:00+00:00  172.059998  1.475280e+09\n",
      "22 2016-11-01 00:00:00+00:00   54.295000  1.477958e+09\n",
      "23 2016-12-01 00:00:00+00:00   63.290001  1.480550e+09\n",
      "24 2017-01-01 00:00:00+00:00   28.395001  1.483229e+09\n",
      "25 2017-02-01 00:00:00+00:00    1.300000  1.485907e+09\n",
      "26 2017-03-01 00:00:00+00:00    3.390000  1.488326e+09\n",
      "27 2017-04-01 00:00:00+00:00    5.370000  1.491005e+09\n",
      "28 2017-05-01 00:00:00+00:00    0.600000  1.493597e+09\n",
      "29 2017-06-01 00:00:00+00:00    0.700000  1.496275e+09\n",
      "30 2017-07-01 00:00:00+00:00    1.015000  1.498867e+09\n",
      "31 2017-08-01 00:00:00+00:00    0.900000  1.501546e+09\n",
      "32 2017-09-01 00:00:00+00:00    0.590000  1.504224e+09\n",
      "33 2017-10-01 00:00:00+00:00    4.595000  1.506816e+09\n",
      "34 2017-11-01 00:00:00+00:00   18.920000  1.509494e+09\n",
      "35 2017-12-01 00:00:00+00:00    3.850000  1.512086e+09\n",
      "36 2018-01-01 00:00:00+00:00    2.355000  1.514765e+09\n",
      "37 2018-02-01 00:00:00+00:00    1.680000  1.517443e+09\n",
      "38 2018-03-01 00:00:00+00:00    0.810000  1.519862e+09\n",
      "39 2018-04-01 00:00:00+00:00    7.170000  1.522541e+09\n",
      "40 2018-05-01 00:00:00+00:00    2.750000  1.525133e+09\n",
      "41 2018-06-01 00:00:00+00:00         NaN  1.527811e+09\n"
     ]
    }
   ],
   "source": [
    "# days to close review(PR) average\n",
    "closed_pr = PullRequests(github_index)\n",
    "closed_pr.since(start=start_date).until(end=end_date)\n",
    "closed_pr.is_closed()\n",
    "closed_pr.get_percentile(\"time_to_close_days\").by_period()\n",
    "print(pd.DataFrame(closed_pr.get_ts()))"
   ]
  }
 ],
 "metadata": {
  "kernelspec": {
   "display_name": "Python 3",
   "language": "python",
   "name": "python3"
  },
  "language_info": {
   "codemirror_mode": {
    "name": "ipython",
    "version": 3
   },
   "file_extension": ".py",
   "mimetype": "text/x-python",
   "name": "python",
   "nbconvert_exporter": "python",
   "pygments_lexer": "ipython3",
   "version": "3.6.3"
  }
 },
 "nbformat": 4,
 "nbformat_minor": 2
}
