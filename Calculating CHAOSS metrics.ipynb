{
 "cells": [
  {
   "cell_type": "markdown",
   "metadata": {},
   "source": [
    "## CHAOSS METRICS\n",
    "\n",
    "This is an attempt to map all the Metrics that manuscripts produces currently. I am not imepelemting this directly into manuscripts, because of the following reasons:\n",
    "- I think I need to test a bit more how the new functions will work with the current metrics to be calculated\n",
    "- The functions and classes that are used currently in manuscripts are quite different than how we are calculating the new metrics and the old ones using new functions. Hence the new functions cannot be directly plugged in."
   ]
  },
  {
   "cell_type": "code",
   "execution_count": 1,
   "metadata": {},
   "outputs": [],
   "source": [
    "from new_functions import Metric, calculate_bmi\n",
    "from elasticsearch import Elasticsearch\n",
    "# utility and support modules\n",
    "from pprint import pprint\n",
    "from datetime import datetime, timezone, timedelta\n",
    "\n",
    "import pandas as pd\n",
    "# declare the necessary variables\n",
    "es = Elasticsearch(\"http://localhost:9200/\")\n",
    "\n",
    "github_index = \"aima_github\"\n",
    "git_index = \"aima_git\"\n",
    "\n",
    "start_date = datetime(2015, 1, 1)\n",
    "end_date = datetime.now()\n",
    "end_date = end_date.replace(hour=0, minute=0, second=0, microsecond=0)"
   ]
  },
  {
   "cell_type": "markdown",
   "metadata": {},
   "source": [
    "Here is the PDF that is generated when we create a report using manuscripts as it is."
   ]
  },
  {
   "cell_type": "markdown",
   "metadata": {},
   "source": [
    "### OVERVIEW\n",
    "\n",
    "- Activity metrics: we have to get the trend for these:\n",
    "\t- Closed PRs\n",
    "\t- Open PRs\n",
    "\t- Issues Open\n",
    "\t- Issues Closed\n",
    "\t- Commits created \n",
    "   \n",
    "\n",
    "- Authors per interval selected: description: average number of developers per month by quarters (so we have the average number of developers per month during those three months). If the approach is to work at the level of month, then just the number of developers per month.\n",
    "\n",
    "\n",
    "- BMI metrics: a little introduction about BMI- here, BMI calculates the efficiency of creating/closing Issues and PRs.\n",
    "\t- BMI of PRs: closed PRs/ submitted PRs in total and a trend showing the same ratio over the said interval(month, week, year) in the given range of time.\n",
    "\t- BMI for issues: same as PRs but for issues.\n",
    "\n",
    "\n",
    "- Time to close metrics:\n",
    "\t- Median for Days to close a PR.\n",
    "\t- Median for Days to close an issue."
   ]
  },
  {
   "cell_type": "code",
   "execution_count": 2,
   "metadata": {},
   "outputs": [
    {
     "name": "stdout",
     "output_type": "stream",
     "text": [
      "Trend for month:  (0, -100)\n",
      "Trend for quarter:  (15, -893)\n"
     ]
    }
   ],
   "source": [
    "closed_pr = Metric(\"http://localhost:9200/\", github_index, start_date, end_date)\n",
    "closed_pr.add_query({\"pull_request\":\"true\"})\n",
    "closed_pr.is_closed()\n",
    "# get trend by month:\n",
    "closed_pr.get_cardinality(\"id_in_repo\").by_period()\n",
    "print(\"Trend for month: \", closed_pr.get_trend())\n",
    "\n",
    "# get trend by quarter:\n",
    "closed_pr.get_cardinality(\"id_in_repo\").by_period(\"quarter\")\n",
    "print(\"Trend for quarter: \", closed_pr.get_trend())"
   ]
  },
  {
   "cell_type": "code",
   "execution_count": 3,
   "metadata": {},
   "outputs": [
    {
     "name": "stdout",
     "output_type": "stream",
     "text": [
      "Trend for month:  (2, -250)\n",
      "Trend for quarter:  (18, -738)\n"
     ]
    }
   ],
   "source": [
    "open_pr = Metric(\"http://localhost:9200/\", github_index, start_date, end_date)\n",
    "open_pr.add_query({\"pull_request\":\"true\"})\n",
    "# get trend by month:\n",
    "open_pr.get_cardinality(\"id_in_repo\").by_period()\n",
    "print(\"Trend for month: \", open_pr.get_trend())\n",
    "# get trend by quarter:\n",
    "open_pr.get_cardinality(\"id_in_repo\").by_period(\"quarter\")\n",
    "print(\"Trend for quarter: \", open_pr.get_trend())"
   ]
  },
  {
   "cell_type": "code",
   "execution_count": 4,
   "metadata": {},
   "outputs": [
    {
     "name": "stdout",
     "output_type": "stream",
     "text": [
      "Trend for month:  (0, -100)\n",
      "Trend for quarter:  (6, -716)\n"
     ]
    }
   ],
   "source": [
    "closed_issues = Metric(\"http://localhost:9200/\", github_index, start_date, end_date)\n",
    "closed_issues.add_query({\"pull_request\":\"false\"})\n",
    "closed_issues.is_closed()\n",
    "# get trend by month:\n",
    "closed_issues.get_cardinality(\"id_in_repo\").by_period(field=\"closed_at\")\n",
    "print(\"Trend for month: \", closed_issues.get_trend())\n",
    "# get trend by quarter:\n",
    "closed_issues.get_cardinality(\"id_in_repo\").by_period(\"quarter\")\n",
    "print(\"Trend for quarter: \", closed_issues.get_trend())"
   ]
  },
  {
   "cell_type": "code",
   "execution_count": 5,
   "metadata": {},
   "outputs": [
    {
     "name": "stdout",
     "output_type": "stream",
     "text": [
      "(0, -100)\n"
     ]
    }
   ],
   "source": [
    "open_issues = Metric(\"http://localhost:9200/\", github_index, start_date, end_date)\n",
    "open_issues.add_query({\"pull_request\":\"false\"})\n",
    "open_issues.get_cardinality(\"id_in_repo\").by_period()\n",
    "print(open_issues.get_trend())"
   ]
  },
  {
   "cell_type": "code",
   "execution_count": 6,
   "metadata": {},
   "outputs": [
    {
     "name": "stdout",
     "output_type": "stream",
     "text": [
      "(0, -100)\n"
     ]
    }
   ],
   "source": [
    "commits = Metric(\"http://localhost:9200/\", git_index, start_date, end_date)\n",
    "commits.get_cardinality(\"hash\").by_period()\n",
    "print(commits.get_trend())"
   ]
  },
  {
   "cell_type": "code",
   "execution_count": 7,
   "metadata": {},
   "outputs": [
    {
     "data": {
      "text/plain": [
       "3"
      ]
     },
     "execution_count": 7,
     "metadata": {},
     "output_type": "execute_result"
    }
   ],
   "source": [
    "# Issues closed in the last month:\n",
    "issues = Metric(\"http://localhost:9200/\", github_index, start_date, end_date)\n",
    "issues.add_query({\"pull_request\":\"false\"})\n",
    "issues.is_closed()\n",
    "issues.get_cardinality(\"id\")\n",
    "# here taking a month made up of 30 days on an average\n",
    "previous_month_date = end_date - timedelta(days=30)\n",
    "issues.set_range(date_field=\"closed_at\", start=previous_month_date, end=end_date)\n",
    "issues.get_aggs()"
   ]
  },
  {
   "cell_type": "code",
   "execution_count": 8,
   "metadata": {},
   "outputs": [
    {
     "data": {
      "text/plain": [
       "1"
      ]
     },
     "execution_count": 8,
     "metadata": {},
     "output_type": "execute_result"
    }
   ],
   "source": [
    "# Issues opened in the last month:\n",
    "issues = Metric(\"http://localhost:9200/\", github_index, start_date, end_date)\n",
    "issues.add_query({\"pull_request\":\"false\"})\n",
    "issues.get_cardinality(\"id\")\n",
    "# May has 31 days\n",
    "previous_month_date = end_date - timedelta(days=31)\n",
    "issues.set_range(start=previous_month_date, end=end_date)\n",
    "issues.get_aggs()"
   ]
  },
  {
   "cell_type": "markdown",
   "metadata": {},
   "source": [
    "There is still a little problem on how the dates are being calculated, hence these values differ from the origin values 5 and 8 respectively"
   ]
  },
  {
   "cell_type": "code",
   "execution_count": 9,
   "metadata": {},
   "outputs": [
    {
     "data": {
      "text/plain": [
       "9"
      ]
     },
     "execution_count": 9,
     "metadata": {},
     "output_type": "execute_result"
    }
   ],
   "source": [
    "# PRs closed in the last month:\n",
    "pr = Metric(\"http://localhost:9200/\", github_index, start_date, end_date)\n",
    "pr.add_query({\"pull_request\":\"true\"})\n",
    "pr.is_closed()\n",
    "pr.get_cardinality(\"id\")\n",
    "# May has 31 days\n",
    "previous_month_date = end_date - timedelta(days=31)\n",
    "pr.set_range(date_field=\"closed_at\", start=previous_month_date, end=end_date)\n",
    "pr.get_aggs()"
   ]
  },
  {
   "cell_type": "code",
   "execution_count": 10,
   "metadata": {},
   "outputs": [
    {
     "data": {
      "text/plain": [
       "9"
      ]
     },
     "execution_count": 10,
     "metadata": {},
     "output_type": "execute_result"
    }
   ],
   "source": [
    "# PRs opened in the last month:\n",
    "pr = Metric(\"http://localhost:9200/\", github_index, start_date, end_date)\n",
    "pr.add_query({\"pull_request\":\"true\"})\n",
    "pr.get_cardinality(\"id\")\n",
    "# May has 31 days\n",
    "previous_month_date = end_date - timedelta(days=31)\n",
    "pr.set_range(date_field=\"closed_at\", start=previous_month_date, end=end_date)\n",
    "pr.get_aggs()"
   ]
  },
  {
   "cell_type": "code",
   "execution_count": 11,
   "metadata": {},
   "outputs": [
    {
     "data": {
      "text/plain": [
       "2.059999942779541"
      ]
     },
     "execution_count": 11,
     "metadata": {},
     "output_type": "execute_result"
    }
   ],
   "source": [
    "# Percentile PR closed\n",
    "PR = Metric(\"http://localhost:9200/\", github_index, start_date, end_date)\n",
    "PR.add_query({\"pull_request\":\"true\"})\n",
    "PR.is_closed()\n",
    "PR.get_percentile(\"time_to_close_days\")\n",
    "# May has 31 days\n",
    "previous_month_date = end_date - timedelta(days=31)\n",
    "PR.set_range(start=previous_month_date, end=end_date)\n",
    "PR.get_aggs()"
   ]
  },
  {
   "cell_type": "code",
   "execution_count": 12,
   "metadata": {},
   "outputs": [],
   "source": [
    "# Percentile issues closed\n",
    "issues = Metric(\"http://localhost:9200/\", github_index, start_date, end_date)\n",
    "issues.add_query({\"pull_request\":\"false\"})\n",
    "issues.is_closed()\n",
    "issues.get_percentile(\"time_to_close_days\")\n",
    "# May has 31 days\n",
    "previous_month_date = end_date - timedelta(days=31)\n",
    "issues.set_range(start=previous_month_date, end=end_date)\n",
    "issues.get_aggs()"
   ]
  },
  {
   "cell_type": "markdown",
   "metadata": {},
   "source": [
    "There is no output for above because the answer is None!"
   ]
  },
  {
   "cell_type": "markdown",
   "metadata": {},
   "source": [
    "### Communication Channels\n",
    "\n",
    "Nothing here because all the communication for git and github happens via Issues and PRs"
   ]
  },
  {
   "cell_type": "markdown",
   "metadata": {},
   "source": [
    "### Project Activities"
   ]
  },
  {
   "cell_type": "code",
   "execution_count": 13,
   "metadata": {},
   "outputs": [
    {
     "name": "stdout",
     "output_type": "stream",
     "text": [
      "                        date  value      unixtime\n",
      "0   2015-01-01T00:00:00.000Z      0  1.420070e+09\n",
      "1   2015-02-01T00:00:00.000Z      0  1.422749e+09\n",
      "2   2015-03-01T00:00:00.000Z      0  1.425168e+09\n",
      "3   2015-04-01T00:00:00.000Z      0  1.427846e+09\n",
      "4   2015-05-01T00:00:00.000Z      0  1.430438e+09\n",
      "5   2015-06-01T00:00:00.000Z      0  1.433117e+09\n",
      "6   2015-07-01T00:00:00.000Z      0  1.435709e+09\n",
      "7   2015-08-01T00:00:00.000Z      0  1.438387e+09\n",
      "8   2015-09-01T00:00:00.000Z      0  1.441066e+09\n",
      "9   2015-10-01T00:00:00.000Z      0  1.443658e+09\n",
      "10  2015-11-01T00:00:00.000Z      0  1.446336e+09\n",
      "11  2015-12-01T00:00:00.000Z      0  1.448928e+09\n",
      "12  2016-01-01T00:00:00.000Z      0  1.451606e+09\n",
      "13  2016-02-01T00:00:00.000Z      3  1.454285e+09\n",
      "14  2016-03-01T00:00:00.000Z    311  1.456790e+09\n",
      "15  2016-04-01T00:00:00.000Z     74  1.459469e+09\n",
      "16  2016-05-01T00:00:00.000Z     14  1.462061e+09\n",
      "17  2016-06-01T00:00:00.000Z     40  1.464739e+09\n",
      "18  2016-07-01T00:00:00.000Z     24  1.467331e+09\n",
      "19  2016-08-01T00:00:00.000Z      7  1.470010e+09\n",
      "20  2016-09-01T00:00:00.000Z      6  1.472688e+09\n",
      "21  2016-10-01T00:00:00.000Z      0  1.475280e+09\n",
      "22  2016-11-01T00:00:00.000Z      0  1.477958e+09\n",
      "23  2016-12-01T00:00:00.000Z      0  1.480550e+09\n",
      "24  2017-01-01T00:00:00.000Z      2  1.483229e+09\n",
      "25  2017-02-01T00:00:00.000Z      0  1.485907e+09\n",
      "26  2017-03-01T00:00:00.000Z     80  1.488326e+09\n",
      "27  2017-04-01T00:00:00.000Z     41  1.491005e+09\n",
      "28  2017-05-01T00:00:00.000Z     19  1.493597e+09\n",
      "29  2017-06-01T00:00:00.000Z     28  1.496275e+09\n",
      "30  2017-07-01T00:00:00.000Z     23  1.498867e+09\n",
      "31  2017-08-01T00:00:00.000Z     27  1.501546e+09\n",
      "32  2017-09-01T00:00:00.000Z      8  1.504224e+09\n",
      "33  2017-10-01T00:00:00.000Z      3  1.506816e+09\n",
      "34  2017-11-01T00:00:00.000Z      0  1.509494e+09\n",
      "35  2017-12-01T00:00:00.000Z      9  1.512086e+09\n",
      "36  2018-01-01T00:00:00.000Z     14  1.514765e+09\n",
      "37  2018-02-01T00:00:00.000Z     42  1.517443e+09\n",
      "38  2018-03-01T00:00:00.000Z     60  1.519862e+09\n",
      "39  2018-04-01T00:00:00.000Z      5  1.522541e+09\n",
      "40  2018-05-01T00:00:00.000Z      8  1.525133e+09\n",
      "41  2018-06-01T00:00:00.000Z      0  1.527811e+09\n",
      "                        date  value      unixtime\n",
      "0   2015-01-01T00:00:00.000Z      0  1.420070e+09\n",
      "1   2015-02-01T00:00:00.000Z      0  1.422749e+09\n",
      "2   2015-03-01T00:00:00.000Z      0  1.425168e+09\n",
      "3   2015-04-01T00:00:00.000Z      0  1.427846e+09\n",
      "4   2015-05-01T00:00:00.000Z      0  1.430438e+09\n",
      "5   2015-06-01T00:00:00.000Z      0  1.433117e+09\n",
      "6   2015-07-01T00:00:00.000Z      0  1.435709e+09\n",
      "7   2015-08-01T00:00:00.000Z      0  1.438387e+09\n",
      "8   2015-09-01T00:00:00.000Z      0  1.441066e+09\n",
      "9   2015-10-01T00:00:00.000Z      0  1.443658e+09\n",
      "10  2015-11-01T00:00:00.000Z      0  1.446336e+09\n",
      "11  2015-12-01T00:00:00.000Z      0  1.448928e+09\n",
      "12  2016-01-01T00:00:00.000Z      0  1.451606e+09\n",
      "13  2016-02-01T00:00:00.000Z      1  1.454285e+09\n",
      "14  2016-03-01T00:00:00.000Z     27  1.456790e+09\n",
      "15  2016-04-01T00:00:00.000Z      9  1.459469e+09\n",
      "16  2016-05-01T00:00:00.000Z      8  1.462061e+09\n",
      "17  2016-06-01T00:00:00.000Z      3  1.464739e+09\n",
      "18  2016-07-01T00:00:00.000Z      3  1.467331e+09\n",
      "19  2016-08-01T00:00:00.000Z      3  1.470010e+09\n",
      "20  2016-09-01T00:00:00.000Z      4  1.472688e+09\n",
      "21  2016-10-01T00:00:00.000Z      0  1.475280e+09\n",
      "22  2016-11-01T00:00:00.000Z      0  1.477958e+09\n",
      "23  2016-12-01T00:00:00.000Z      0  1.480550e+09\n",
      "24  2017-01-01T00:00:00.000Z      2  1.483229e+09\n",
      "25  2017-02-01T00:00:00.000Z      0  1.485907e+09\n",
      "26  2017-03-01T00:00:00.000Z     25  1.488326e+09\n",
      "27  2017-04-01T00:00:00.000Z     11  1.491005e+09\n",
      "28  2017-05-01T00:00:00.000Z      8  1.493597e+09\n",
      "29  2017-06-01T00:00:00.000Z      3  1.496275e+09\n",
      "30  2017-07-01T00:00:00.000Z      2  1.498867e+09\n",
      "31  2017-08-01T00:00:00.000Z      4  1.501546e+09\n",
      "32  2017-09-01T00:00:00.000Z      3  1.504224e+09\n",
      "33  2017-10-01T00:00:00.000Z      1  1.506816e+09\n",
      "34  2017-11-01T00:00:00.000Z      0  1.509494e+09\n",
      "35  2017-12-01T00:00:00.000Z      7  1.512086e+09\n",
      "36  2018-01-01T00:00:00.000Z      7  1.514765e+09\n",
      "37  2018-02-01T00:00:00.000Z     13  1.517443e+09\n",
      "38  2018-03-01T00:00:00.000Z     16  1.519862e+09\n",
      "39  2018-04-01T00:00:00.000Z      3  1.522541e+09\n",
      "40  2018-05-01T00:00:00.000Z      4  1.525133e+09\n",
      "41  2018-06-01T00:00:00.000Z      0  1.527811e+09\n"
     ]
    }
   ],
   "source": [
    "# number of commits made by month and quarter\n",
    "commits = Metric(\"http://localhost:9200/\", git_index, start_date, end_date)\n",
    "commits.set_range(start=start_date, end=end_date)\n",
    "commits.get_cardinality(\"hash\").by_period()\n",
    "print(pd.DataFrame(commits.get_ts()))\n",
    "commits.get_cardinality(\"author_uuid\").by_period()\n",
    "print(pd.DataFrame(commits.get_ts()))"
   ]
  },
  {
   "cell_type": "code",
   "execution_count": 14,
   "metadata": {},
   "outputs": [
    {
     "data": {
      "text/plain": [
       "str"
      ]
     },
     "execution_count": 14,
     "metadata": {},
     "output_type": "execute_result"
    }
   ],
   "source": [
    "type(commits.get_ts()['date'][0])"
   ]
  },
  {
   "cell_type": "markdown",
   "metadata": {},
   "source": [
    "### Community"
   ]
  },
  {
   "cell_type": "code",
   "execution_count": 15,
   "metadata": {},
   "outputs": [
    {
     "name": "stdout",
     "output_type": "stream",
     "text": [
      "                        date  value      unixtime\n",
      "0   2015-01-01T00:00:00.000Z      0  1.420070e+09\n",
      "1   2015-02-01T00:00:00.000Z      0  1.422749e+09\n",
      "2   2015-03-01T00:00:00.000Z      0  1.425168e+09\n",
      "3   2015-04-01T00:00:00.000Z      0  1.427846e+09\n",
      "4   2015-05-01T00:00:00.000Z      0  1.430438e+09\n",
      "5   2015-06-01T00:00:00.000Z      0  1.433117e+09\n",
      "6   2015-07-01T00:00:00.000Z      0  1.435709e+09\n",
      "7   2015-08-01T00:00:00.000Z      0  1.438387e+09\n",
      "8   2015-09-01T00:00:00.000Z      0  1.441066e+09\n",
      "9   2015-10-01T00:00:00.000Z      0  1.443658e+09\n",
      "10  2015-11-01T00:00:00.000Z      0  1.446336e+09\n",
      "11  2015-12-01T00:00:00.000Z      0  1.448928e+09\n",
      "12  2016-01-01T00:00:00.000Z      0  1.451606e+09\n",
      "13  2016-02-01T00:00:00.000Z      1  1.454285e+09\n",
      "14  2016-03-01T00:00:00.000Z     27  1.456790e+09\n",
      "15  2016-04-01T00:00:00.000Z      9  1.459469e+09\n",
      "16  2016-05-01T00:00:00.000Z      8  1.462061e+09\n",
      "17  2016-06-01T00:00:00.000Z      3  1.464739e+09\n",
      "18  2016-07-01T00:00:00.000Z      3  1.467331e+09\n",
      "19  2016-08-01T00:00:00.000Z      3  1.470010e+09\n",
      "20  2016-09-01T00:00:00.000Z      4  1.472688e+09\n",
      "21  2016-10-01T00:00:00.000Z      0  1.475280e+09\n",
      "22  2016-11-01T00:00:00.000Z      0  1.477958e+09\n",
      "23  2016-12-01T00:00:00.000Z      0  1.480550e+09\n",
      "24  2017-01-01T00:00:00.000Z      2  1.483229e+09\n",
      "25  2017-02-01T00:00:00.000Z      0  1.485907e+09\n",
      "26  2017-03-01T00:00:00.000Z     25  1.488326e+09\n",
      "27  2017-04-01T00:00:00.000Z     11  1.491005e+09\n",
      "28  2017-05-01T00:00:00.000Z      8  1.493597e+09\n",
      "29  2017-06-01T00:00:00.000Z      3  1.496275e+09\n",
      "30  2017-07-01T00:00:00.000Z      2  1.498867e+09\n",
      "31  2017-08-01T00:00:00.000Z      4  1.501546e+09\n",
      "32  2017-09-01T00:00:00.000Z      3  1.504224e+09\n",
      "33  2017-10-01T00:00:00.000Z      1  1.506816e+09\n",
      "34  2017-11-01T00:00:00.000Z      0  1.509494e+09\n",
      "35  2017-12-01T00:00:00.000Z      7  1.512086e+09\n",
      "36  2018-01-01T00:00:00.000Z      7  1.514765e+09\n",
      "37  2018-02-01T00:00:00.000Z     13  1.517443e+09\n",
      "38  2018-03-01T00:00:00.000Z     16  1.519862e+09\n",
      "39  2018-04-01T00:00:00.000Z      3  1.522541e+09\n",
      "40  2018-05-01T00:00:00.000Z      4  1.525133e+09\n",
      "41  2018-06-01T00:00:00.000Z      0  1.527811e+09\n"
     ]
    }
   ],
   "source": [
    "# number of commits made by month and quarter\n",
    "commits = Metric(\"http://localhost:9200/\", git_index, start_date, end_date)\n",
    "commits.set_range(start=start_date, end=end_date)\n",
    "commits.get_cardinality(\"author_uuid\").by_period()\n",
    "print(pd.DataFrame(commits.get_ts()))"
   ]
  },
  {
   "cell_type": "code",
   "execution_count": 16,
   "metadata": {},
   "outputs": [
    {
     "data": {
      "text/plain": [
       "{'_shards': {'failed': 0, 'skipped': 0, 'successful': 5, 'total': 5},\n",
       " 'aggregations': {'0': {'buckets': [{'doc_count': 5, 'key': 'Aman Deep Singh'},\n",
       "    {'doc_count': 1, 'key': 'AdityaDaflapurkar'},\n",
       "    {'doc_count': 1, 'key': 'DKE'},\n",
       "    {'doc_count': 1, 'key': 'tbcdebug'}],\n",
       "   'doc_count_error_upper_bound': 0,\n",
       "   'sum_other_doc_count': 0}},\n",
       " 'hits': {'hits': [], 'max_score': 0.0, 'total': 8},\n",
       " 'timed_out': False,\n",
       " 'took': 1}"
      ]
     },
     "execution_count": 16,
     "metadata": {},
     "output_type": "execute_result"
    }
   ],
   "source": [
    "# Top committers in the previous month:\n",
    "authors = Metric(\"http://localhost:9200/\", git_index, start_date, end_date)\n",
    "previous_month_date = end_date - timedelta(days=31)\n",
    "authors.set_range(start=previous_month_date, end=end_date)\n",
    "authors.get_terms(field=\"author_name\")\n",
    "authors.get_results()"
   ]
  },
  {
   "cell_type": "code",
   "execution_count": 17,
   "metadata": {},
   "outputs": [
    {
     "data": {
      "text/plain": [
       "{'_shards': {'failed': 0, 'skipped': 0, 'successful': 5, 'total': 5},\n",
       " 'aggregations': {'0': {'buckets': [{'doc_count': 8, 'key': 'Unknown'}],\n",
       "   'doc_count_error_upper_bound': 0,\n",
       "   'sum_other_doc_count': 0}},\n",
       " 'hits': {'hits': [], 'max_score': 0.0, 'total': 8},\n",
       " 'timed_out': False,\n",
       " 'took': 1}"
      ]
     },
     "execution_count": 17,
     "metadata": {},
     "output_type": "execute_result"
    }
   ],
   "source": [
    "# Top commiting orgs in the previous month:\n",
    "orgs = Metric(\"http://localhost:9200/\", git_index, start_date, end_date)\n",
    "previous_month_date = end_date - timedelta(days=31)\n",
    "orgs.set_range(start=previous_month_date, end=end_date)\n",
    "orgs.get_terms(field=\"author_org_name\")\n",
    "orgs.get_results()"
   ]
  },
  {
   "cell_type": "markdown",
   "metadata": {},
   "source": [
    "### Process"
   ]
  },
  {
   "cell_type": "code",
   "execution_count": 26,
   "metadata": {},
   "outputs": [
    {
     "name": "stdout",
     "output_type": "stream",
     "text": [
      "     Period  Closed/Submitted\n",
      "0   2015-01          0.000000\n",
      "1   2015-02          0.000000\n",
      "2   2015-03          0.000000\n",
      "3   2015-04          0.000000\n",
      "4   2015-05          0.000000\n",
      "5   2015-06          0.000000\n",
      "6   2015-07          0.000000\n",
      "7   2015-08          0.000000\n",
      "8   2015-09          0.000000\n",
      "9   2015-10          0.000000\n",
      "10  2015-11          0.000000\n",
      "11  2015-12          0.000000\n",
      "12  2016-01          0.000000\n",
      "13  2016-02          1.000000\n",
      "14  2016-03          0.923077\n",
      "15  2016-04          0.750000\n",
      "16  2016-05          1.000000\n",
      "17  2016-06          1.000000\n",
      "18  2016-07          0.000000\n",
      "19  2016-08          1.000000\n",
      "20  2016-09          1.000000\n",
      "21  2016-10          1.000000\n",
      "22  2016-11          0.500000\n",
      "23  2016-12          0.000000\n",
      "24  2017-01          0.666667\n",
      "25  2017-02          0.666667\n",
      "26  2017-03          0.833333\n",
      "27  2017-04          0.933333\n",
      "28  2017-05          1.000000\n",
      "29  2017-06          0.714286\n",
      "30  2017-07          1.000000\n",
      "31  2017-08          0.727273\n",
      "32  2017-09          1.000000\n",
      "33  2017-10          0.000000\n",
      "34  2017-11          0.500000\n",
      "35  2017-12          0.375000\n",
      "36  2018-01          0.777778\n",
      "37  2018-02          0.760000\n",
      "38  2018-03          0.589744\n",
      "39  2018-04          0.600000\n",
      "40  2018-05          0.000000\n",
      "41  2018-06          0.000000\n"
     ]
    }
   ],
   "source": [
    "# Issues closed/ issues created\n",
    "\n",
    "closed_issues = Metric(\"http://localhost:9200/\", github_index, start_date, end_date)\n",
    "closed_issues.add_query({\"pull_request\":\"false\"})\n",
    "closed_issues.set_range(start=start_date, end=end_date)\n",
    "closed_issues.is_closed()\n",
    "closed_issues.get_cardinality(\"id\").by_period()\n",
    "closed_ts = closed_issues.get_ts()\n",
    "\n",
    "opened_issues = Metric(\"http://localhost:9200/\", github_index, start_date, end_date)\n",
    "opened_issues.add_query({\"pull_request\":\"false\"})\n",
    "opened_issues.set_range(start=start_date, end=end_date)\n",
    "opened_issues.get_cardinality(\"id\").by_period()\n",
    "opened_ts = opened_issues.get_ts()\n",
    "\n",
    "print(pd.DataFrame(calculate_bmi(closed_ts, opened_ts)))"
   ]
  },
  {
   "cell_type": "code",
   "execution_count": 27,
   "metadata": {},
   "outputs": [
    {
     "name": "stdout",
     "output_type": "stream",
     "text": [
      "     Period  Closed/Submitted\n",
      "0   2015-01          0.000000\n",
      "1   2015-02          0.000000\n",
      "2   2015-03          0.000000\n",
      "3   2015-04          0.000000\n",
      "4   2015-05          0.000000\n",
      "5   2015-06          0.000000\n",
      "6   2015-07          0.000000\n",
      "7   2015-08          0.000000\n",
      "8   2015-09          0.000000\n",
      "9   2015-10          0.000000\n",
      "10  2015-11          0.000000\n",
      "11  2015-12          0.000000\n",
      "12  2016-01          0.000000\n",
      "13  2016-02          0.000000\n",
      "14  2016-03          1.000000\n",
      "15  2016-04          1.000000\n",
      "16  2016-05          1.000000\n",
      "17  2016-06          1.000000\n",
      "18  2016-07          1.000000\n",
      "19  2016-08          1.000000\n",
      "20  2016-09          1.000000\n",
      "21  2016-10          1.000000\n",
      "22  2016-11          1.000000\n",
      "23  2016-12          1.000000\n",
      "24  2017-01          1.000000\n",
      "25  2017-02          1.000000\n",
      "26  2017-03          1.000000\n",
      "27  2017-04          1.000000\n",
      "28  2017-05          1.000000\n",
      "29  2017-06          1.000000\n",
      "30  2017-07          1.000000\n",
      "31  2017-08          1.000000\n",
      "32  2017-09          0.857143\n",
      "33  2017-10          1.000000\n",
      "34  2017-11          1.000000\n",
      "35  2017-12          1.000000\n",
      "36  2018-01          0.952381\n",
      "37  2018-02          0.981481\n",
      "38  2018-03          1.000000\n",
      "39  2018-04          1.000000\n",
      "40  2018-05          0.857143\n",
      "41  2018-06          0.000000\n"
     ]
    }
   ],
   "source": [
    "# PRs closed/ PRs submitted\n",
    "\n",
    "closed_pr = Metric(\"http://localhost:9200/\", github_index, start_date, end_date)\n",
    "closed_pr.add_query({\"pull_request\":\"true\"})\n",
    "closed_pr.set_range(start=start_date, end=end_date)\n",
    "closed_pr.is_closed()\n",
    "closed_pr.get_cardinality(\"id\").by_period()\n",
    "closed_ts = closed_pr.get_ts()\n",
    "\n",
    "opened_pr = Metric(\"http://localhost:9200/\", github_index, start_date, end_date)\n",
    "opened_pr.add_query({\"pull_request\":\"true\"})\n",
    "opened_pr.set_range(start=start_date, end=end_date)\n",
    "opened_pr.get_cardinality(\"id\").by_period()\n",
    "opened_ts = opened_pr.get_ts()\n",
    "\n",
    "print(pd.DataFrame(calculate_bmi(closed_ts, opened_ts)))"
   ]
  },
  {
   "cell_type": "code",
   "execution_count": 30,
   "metadata": {},
   "outputs": [
    {
     "name": "stdout",
     "output_type": "stream",
     "text": [
      "                        date       value      unixtime\n",
      "0   2015-01-01T00:00:00.000Z         NaN  1.420070e+09\n",
      "1   2015-02-01T00:00:00.000Z         NaN  1.422749e+09\n",
      "2   2015-03-01T00:00:00.000Z         NaN  1.425168e+09\n",
      "3   2015-04-01T00:00:00.000Z         NaN  1.427846e+09\n",
      "4   2015-05-01T00:00:00.000Z         NaN  1.430438e+09\n",
      "5   2015-06-01T00:00:00.000Z         NaN  1.433117e+09\n",
      "6   2015-07-01T00:00:00.000Z         NaN  1.435709e+09\n",
      "7   2015-08-01T00:00:00.000Z         NaN  1.438387e+09\n",
      "8   2015-09-01T00:00:00.000Z         NaN  1.441066e+09\n",
      "9   2015-10-01T00:00:00.000Z         NaN  1.443658e+09\n",
      "10  2015-11-01T00:00:00.000Z         NaN  1.446336e+09\n",
      "11  2015-12-01T00:00:00.000Z         NaN  1.448928e+09\n",
      "12  2016-01-01T00:00:00.000Z         NaN  1.451606e+09\n",
      "13  2016-02-01T00:00:00.000Z         NaN  1.454285e+09\n",
      "14  2016-03-01T00:00:00.000Z    1.375500  1.456790e+09\n",
      "15  2016-04-01T00:00:00.000Z    0.282105  1.459469e+09\n",
      "16  2016-05-01T00:00:00.000Z    1.386000  1.462061e+09\n",
      "17  2016-06-01T00:00:00.000Z    0.000000  1.464739e+09\n",
      "18  2016-07-01T00:00:00.000Z   13.687500  1.467331e+09\n",
      "19  2016-08-01T00:00:00.000Z    7.960000  1.470010e+09\n",
      "20  2016-09-01T00:00:00.000Z   33.848889  1.472688e+09\n",
      "21  2016-10-01T00:00:00.000Z  158.233337  1.475280e+09\n",
      "22  2016-11-01T00:00:00.000Z   55.095000  1.477958e+09\n",
      "23  2016-12-01T00:00:00.000Z   64.543334  1.480550e+09\n",
      "24  2017-01-01T00:00:00.000Z   28.395001  1.483229e+09\n",
      "25  2017-02-01T00:00:00.000Z    1.300000  1.485907e+09\n",
      "26  2017-03-01T00:00:00.000Z   20.420000  1.488326e+09\n",
      "27  2017-04-01T00:00:00.000Z   11.601842  1.491005e+09\n",
      "28  2017-05-01T00:00:00.000Z    1.137143  1.493597e+09\n",
      "29  2017-06-01T00:00:00.000Z    2.614194  1.496275e+09\n",
      "30  2017-07-01T00:00:00.000Z    1.858750  1.498867e+09\n",
      "31  2017-08-01T00:00:00.000Z    8.235758  1.501546e+09\n",
      "32  2017-09-01T00:00:00.000Z    1.745000  1.504224e+09\n",
      "33  2017-10-01T00:00:00.000Z    7.437500  1.506816e+09\n",
      "34  2017-11-01T00:00:00.000Z   18.720000  1.509494e+09\n",
      "35  2017-12-01T00:00:00.000Z    4.418571  1.512086e+09\n",
      "36  2018-01-01T00:00:00.000Z    6.578000  1.514765e+09\n",
      "37  2018-02-01T00:00:00.000Z    4.482830  1.517443e+09\n",
      "38  2018-03-01T00:00:00.000Z    2.147763  1.519862e+09\n",
      "39  2018-04-01T00:00:00.000Z    7.736667  1.522541e+09\n",
      "40  2018-05-01T00:00:00.000Z    3.226667  1.525133e+09\n",
      "41  2018-06-01T00:00:00.000Z         NaN  1.527811e+09\n"
     ]
    }
   ],
   "source": [
    "# days to close review(PR) average\n",
    "closed_pr = Metric(\"http://localhost:9200/\", github_index, start_date, end_date)\n",
    "closed_pr.add_query({\"pull_request\":\"true\"})\n",
    "closed_pr.set_range(start=start_date, end=end_date)\n",
    "closed_pr.is_closed()\n",
    "closed_pr.get_average(\"time_to_close_days\").by_period()\n",
    "print(pd.DataFrame(closed_pr.get_ts()))"
   ]
  },
  {
   "cell_type": "code",
   "execution_count": 31,
   "metadata": {},
   "outputs": [
    {
     "name": "stdout",
     "output_type": "stream",
     "text": [
      "                        date       value      unixtime\n",
      "0   2015-01-01T00:00:00.000Z         NaN  1.420070e+09\n",
      "1   2015-02-01T00:00:00.000Z         NaN  1.422749e+09\n",
      "2   2015-03-01T00:00:00.000Z         NaN  1.425168e+09\n",
      "3   2015-04-01T00:00:00.000Z         NaN  1.427846e+09\n",
      "4   2015-05-01T00:00:00.000Z         NaN  1.430438e+09\n",
      "5   2015-06-01T00:00:00.000Z         NaN  1.433117e+09\n",
      "6   2015-07-01T00:00:00.000Z         NaN  1.435709e+09\n",
      "7   2015-08-01T00:00:00.000Z         NaN  1.438387e+09\n",
      "8   2015-09-01T00:00:00.000Z         NaN  1.441066e+09\n",
      "9   2015-10-01T00:00:00.000Z         NaN  1.443658e+09\n",
      "10  2015-11-01T00:00:00.000Z         NaN  1.446336e+09\n",
      "11  2015-12-01T00:00:00.000Z         NaN  1.448928e+09\n",
      "12  2016-01-01T00:00:00.000Z         NaN  1.451606e+09\n",
      "13  2016-02-01T00:00:00.000Z         NaN  1.454285e+09\n",
      "14  2016-03-01T00:00:00.000Z    0.465000  1.456790e+09\n",
      "15  2016-04-01T00:00:00.000Z    0.200000  1.459469e+09\n",
      "16  2016-05-01T00:00:00.000Z    0.600000  1.462061e+09\n",
      "17  2016-06-01T00:00:00.000Z    0.000000  1.464739e+09\n",
      "18  2016-07-01T00:00:00.000Z    0.000000  1.467331e+09\n",
      "19  2016-08-01T00:00:00.000Z    3.390000  1.470010e+09\n",
      "20  2016-09-01T00:00:00.000Z    6.610000  1.472688e+09\n",
      "21  2016-10-01T00:00:00.000Z  172.059998  1.475280e+09\n",
      "22  2016-11-01T00:00:00.000Z   54.295000  1.477958e+09\n",
      "23  2016-12-01T00:00:00.000Z   63.290001  1.480550e+09\n",
      "24  2017-01-01T00:00:00.000Z   28.395001  1.483229e+09\n",
      "25  2017-02-01T00:00:00.000Z    1.300000  1.485907e+09\n",
      "26  2017-03-01T00:00:00.000Z    3.390000  1.488326e+09\n",
      "27  2017-04-01T00:00:00.000Z    5.370000  1.491005e+09\n",
      "28  2017-05-01T00:00:00.000Z    0.600000  1.493597e+09\n",
      "29  2017-06-01T00:00:00.000Z    0.700000  1.496275e+09\n",
      "30  2017-07-01T00:00:00.000Z    1.015000  1.498867e+09\n",
      "31  2017-08-01T00:00:00.000Z    0.900000  1.501546e+09\n",
      "32  2017-09-01T00:00:00.000Z    0.590000  1.504224e+09\n",
      "33  2017-10-01T00:00:00.000Z    4.595000  1.506816e+09\n",
      "34  2017-11-01T00:00:00.000Z   18.920000  1.509494e+09\n",
      "35  2017-12-01T00:00:00.000Z    3.850000  1.512086e+09\n",
      "36  2018-01-01T00:00:00.000Z    2.355000  1.514765e+09\n",
      "37  2018-02-01T00:00:00.000Z    1.680000  1.517443e+09\n",
      "38  2018-03-01T00:00:00.000Z    0.810000  1.519862e+09\n",
      "39  2018-04-01T00:00:00.000Z    7.170000  1.522541e+09\n",
      "40  2018-05-01T00:00:00.000Z    2.750000  1.525133e+09\n",
      "41  2018-06-01T00:00:00.000Z         NaN  1.527811e+09\n"
     ]
    }
   ],
   "source": [
    "# days to close review(PR) average\n",
    "closed_pr = Metric(\"http://localhost:9200/\", github_index, start_date, end_date)\n",
    "closed_pr.add_query({\"pull_request\":\"true\"})\n",
    "closed_pr.set_range(start=start_date, end=end_date)\n",
    "closed_pr.is_closed()\n",
    "closed_pr.get_percentile(\"time_to_close_days\").by_period()\n",
    "print(pd.DataFrame(closed_pr.get_ts()))"
   ]
  }
 ],
 "metadata": {
  "kernelspec": {
   "display_name": "Python 3",
   "language": "python",
   "name": "python3"
  },
  "language_info": {
   "codemirror_mode": {
    "name": "ipython",
    "version": 3
   },
   "file_extension": ".py",
   "mimetype": "text/x-python",
   "name": "python",
   "nbconvert_exporter": "python",
   "pygments_lexer": "ipython3",
   "version": "3.6.3"
  }
 },
 "nbformat": 4,
 "nbformat_minor": 2
}
