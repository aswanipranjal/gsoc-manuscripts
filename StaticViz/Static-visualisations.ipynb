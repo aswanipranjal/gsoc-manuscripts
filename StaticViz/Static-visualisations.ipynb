{
 "cells": [
  {
   "cell_type": "markdown",
   "metadata": {},
   "source": [
    "# Static Visualisations\n",
    "\n",
    "This is an attempt to create static visualisations for the metrics manuscripts currently supports"
   ]
  },
  {
   "cell_type": "code",
   "execution_count": 1,
   "metadata": {},
   "outputs": [],
   "source": [
    "import sys\n",
    "\n",
    "sys.path.insert(0, \"..\")\n",
    "# utility and support modules\n",
    "from pprint import pprint\n",
    "from datetime import datetime, timezone, timedelta\n",
    "from dateutil import parser\n",
    "import pandas as pd\n",
    "\n",
    "import matplotlib\n",
    "import matplotlib.pyplot as plt\n",
    "from matplotlib.pyplot import figure\n",
    "plt.style.use('seaborn')\n",
    "\n",
    "from manuscripts.manuscripts2.new_functions import Query, Index, calculate_bmi, buckets_to_df, get_timeseries, get_trend, get_aggs\n",
    "from manuscripts.manuscripts2.derived_classes import Issues, PullRequests\n",
    "from manuscripts.manuscripts.esquery import get_first_date_of_index"
   ]
  },
  {
   "cell_type": "code",
   "execution_count": 2,
   "metadata": {},
   "outputs": [],
   "source": [
    "# declare the necessary variables\n",
    "github_data_source = \"perceval_github\"\n",
    "git_data_source = \"perceval_git\"\n",
    "\n",
    "github_index = Index(index_name=github_data_source)\n",
    "git_index = Index(index_name=git_data_source)\n",
    "\n",
    "start_date = parser.parse(get_first_date_of_index(\"http://localhost:9200\", git_data_source))\n",
    "end_date = datetime.now()\n",
    "end_date = end_date.replace(hour=0, minute=0, second=0, microsecond=0)"
   ]
  },
  {
   "cell_type": "markdown",
   "metadata": {},
   "source": [
    "Initialise the PDF to store all the images"
   ]
  },
  {
   "cell_type": "code",
   "execution_count": 3,
   "metadata": {},
   "outputs": [],
   "source": [
    "from fpdf import FPDF\n",
    "pdf = FPDF()"
   ]
  },
  {
   "cell_type": "markdown",
   "metadata": {},
   "source": [
    "#### Trends for Closed/Open issues and PRs"
   ]
  },
  {
   "cell_type": "code",
   "execution_count": 4,
   "metadata": {},
   "outputs": [
    {
     "name": "stdout",
     "output_type": "stream",
     "text": [
      "Trend for month:  (8, 37)\n"
     ]
    }
   ],
   "source": [
    "closed_pr = PullRequests(github_index)\n",
    "closed_pr.is_closed()\n",
    "# get trend by month:\n",
    "closed_pr.get_cardinality(\"id_in_repo\").by_period()\n",
    "print(\"Trend for month: \", get_trend(get_timeseries(closed_pr)))"
   ]
  },
  {
   "cell_type": "code",
   "execution_count": 5,
   "metadata": {},
   "outputs": [
    {
     "name": "stdout",
     "output_type": "stream",
     "text": [
      "Trend for quarter:  (24, -233)\n"
     ]
    }
   ],
   "source": [
    "# get trend by quarter:\n",
    "closed_pr = PullRequests(github_index)\n",
    "closed_pr.is_closed()\n",
    "closed_pr.get_cardinality(\"id_in_repo\").by_period(period=\"quarter\")\n",
    "print(\"Trend for quarter: \", get_trend(get_timeseries(closed_pr)))"
   ]
  },
  {
   "cell_type": "code",
   "execution_count": 6,
   "metadata": {},
   "outputs": [
    {
     "name": "stdout",
     "output_type": "stream",
     "text": [
      "Trend for month:  (2, -300)\n",
      "Trend for quarter:  (2, -1100)\n"
     ]
    }
   ],
   "source": [
    "opened_pr = PullRequests(github_index)\n",
    "# get trend by month:\n",
    "opened_pr.get_cardinality(\"id_in_repo\").by_period()\n",
    "print(\"Trend for month: \", get_trend(get_timeseries(opened_pr)))\n",
    "\n",
    "# get trend by quarter:\n",
    "opened_pr = PullRequests(github_index)\n",
    "opened_pr.get_cardinality(\"id_in_repo\").by_period(period=\"quarter\")\n",
    "print(\"Trend for quarter: \", get_trend(get_timeseries(opened_pr)))"
   ]
  },
  {
   "cell_type": "code",
   "execution_count": 7,
   "metadata": {},
   "outputs": [
    {
     "name": "stdout",
     "output_type": "stream",
     "text": [
      "Trend for month:  (2, 100)\n",
      "Trend for quarter:  (4, -250)\n"
     ]
    }
   ],
   "source": [
    "closed_issues = Issues(github_index)\n",
    "closed_issues.is_closed()\n",
    "# get trend by month:\n",
    "closed_issues.get_cardinality(\"id_in_repo\").by_period(field=\"closed_at\")\n",
    "print(\"Trend for month: \", get_trend(get_timeseries(closed_issues)))\n",
    "\n",
    "# get trend by quarter:\n",
    "closed_issues = Issues(github_index)\n",
    "closed_issues.is_closed()\n",
    "closed_issues.get_cardinality(\"id_in_repo\").by_period(period=\"quarter\")\n",
    "print(\"Trend for quarter: \", get_trend(get_timeseries(closed_issues)))"
   ]
  },
  {
   "cell_type": "code",
   "execution_count": 8,
   "metadata": {},
   "outputs": [
    {
     "name": "stdout",
     "output_type": "stream",
     "text": [
      "Trend for month:  (1, 0)\n",
      "Trend for quarter:  (1, -200)\n"
     ]
    }
   ],
   "source": [
    "open_issues = Issues(github_index)\n",
    "open_issues.is_open()\n",
    "open_issues.get_cardinality(\"id_in_repo\").by_period()\n",
    "print(\"Trend for month: \", get_trend(get_timeseries(open_issues)))\n",
    "\n",
    "# get trend by quarter:\n",
    "open_issues = Issues(github_index)\n",
    "open_issues.is_open()\n",
    "open_issues.get_cardinality(\"id_in_repo\").by_period(period=\"quarter\")\n",
    "print(\"Trend for quarter: \", get_trend(get_timeseries(open_issues)))"
   ]
  },
  {
   "cell_type": "code",
   "execution_count": 9,
   "metadata": {},
   "outputs": [
    {
     "name": "stdout",
     "output_type": "stream",
     "text": [
      "Trend for month:  (16, 6)\n",
      "Trend for quarter:  (64, -335)\n"
     ]
    }
   ],
   "source": [
    "commits = Query(git_index)\n",
    "commits.get_cardinality(\"hash\").by_period()\n",
    "print(\"Trend for month: \", get_trend(get_timeseries(commits)))\n",
    "\n",
    "commits = Query(git_index)\n",
    "commits.get_cardinality(\"hash\").by_period(period=\"quarter\")\n",
    "print(\"Trend for quarter: \", get_trend(get_timeseries(commits)))"
   ]
  },
  {
   "cell_type": "code",
   "execution_count": 10,
   "metadata": {},
   "outputs": [
    {
     "data": {
      "text/plain": [
       "8"
      ]
     },
     "execution_count": 10,
     "metadata": {},
     "output_type": "execute_result"
    }
   ],
   "source": [
    "# PRs closed in the last month:\n",
    "pr = PullRequests(github_index)\n",
    "pr.is_closed()\n",
    "pr.get_cardinality(\"id\")\n",
    "# May has 31 days\n",
    "previous_month_date = end_date - timedelta(days=31)\n",
    "pr.since(field=\"closed_at\", start=previous_month_date).until(field=\"closed_at\", end=end_date)\n",
    "get_aggs(pr)"
   ]
  },
  {
   "cell_type": "code",
   "execution_count": 11,
   "metadata": {},
   "outputs": [
    {
     "data": {
      "text/plain": [
       "10"
      ]
     },
     "execution_count": 11,
     "metadata": {},
     "output_type": "execute_result"
    }
   ],
   "source": [
    "# PRs opened in the last month:\n",
    "pr = PullRequests(github_index)\n",
    "pr.get_cardinality(\"id\")\n",
    "# May has 31 days\n",
    "previous_month_date = end_date - timedelta(days=31)\n",
    "pr.since(start=previous_month_date).until(end=end_date)\n",
    "get_aggs(pr)"
   ]
  },
  {
   "cell_type": "code",
   "execution_count": 12,
   "metadata": {},
   "outputs": [
    {
     "data": {
      "text/plain": [
       "0.10500000044703484"
      ]
     },
     "execution_count": 12,
     "metadata": {},
     "output_type": "execute_result"
    }
   ],
   "source": [
    "# Percentile PR closed\n",
    "PR = PullRequests(github_index)\n",
    "PR.is_closed()\n",
    "PR.get_percentiles(\"time_to_close_days\")\n",
    "# May has 31 days\n",
    "previous_month_date = end_date - timedelta(days=31)\n",
    "PR.since(start=previous_month_date).until(end=end_date)\n",
    "get_aggs(PR)"
   ]
  },
  {
   "cell_type": "markdown",
   "metadata": {},
   "source": [
    "### Project Activities"
   ]
  },
  {
   "cell_type": "code",
   "execution_count": 13,
   "metadata": {},
   "outputs": [],
   "source": [
    "# number of commits made by month \n",
    "commits = Query(git_index)\n",
    "commits.since(start=start_date).until(end=end_date)\n",
    "commits.get_cardinality(\"hash\").by_period()\n",
    "commits_by_month = get_timeseries(commits, dataframe=True)\n",
    "commits_by_month = commits_by_month.rename(columns={\"value\":\"number of commits\"})\n",
    "del commits_by_month['unixtime']\n",
    "\n",
    "# number of active authors per month\n",
    "authors = Query(git_index)\n",
    "authors.get_cardinality(\"author_name\").by_period()\n",
    "authors_by_month = get_timeseries(authors, dataframe=True)\n",
    "authors_by_month = authors_by_month.rename(columns={\"value\":\"number of authors\"}).fillna(0)\n",
    "del authors_by_month['unixtime']\n",
    "\n",
    "figure(figsize=(10, 15), dpi=80, facecolor='w', edgecolor='k')\n",
    "plt.figure(1)\n",
    "\n",
    "plt.subplot(211)\n",
    "plt.plot(commits_by_month)\n",
    "plt.title('Commit and author count by Months', fontsize=30)\n",
    "plt.ylabel('Count Commits', fontsize=20)\n",
    "plt.grid(True)\n",
    "\n",
    "plt.subplot(212)\n",
    "plt.plot(authors_by_month)\n",
    "plt.ylabel('Count Authors', fontsize=20)\n",
    "plt.grid(True)\n",
    "plt.xlabel('Date', fontsize=20)\n",
    "plt.savefig('images/commits_and_authors.png')"
   ]
  },
  {
   "cell_type": "code",
   "execution_count": 14,
   "metadata": {},
   "outputs": [],
   "source": [
    "pdf.add_page()\n",
    "pdf.image(\"images/commits_and_authors.png\", x=5, y=5, w=200, h=280)"
   ]
  },
  {
   "cell_type": "markdown",
   "metadata": {},
   "source": [
    "### Process"
   ]
  },
  {
   "cell_type": "markdown",
   "metadata": {},
   "source": [
    "Here we look at the ratio of closed issues and submitted issues over time. Ideally the ratio should be 1.0 at all times which will show us that the maintainers are working tirelessly!"
   ]
  },
  {
   "cell_type": "code",
   "execution_count": 15,
   "metadata": {},
   "outputs": [],
   "source": [
    "# Issues closed/ issues created\n",
    "closed_issues = Issues(github_index)\n",
    "closed_issues.since(start=start_date).until(end=end_date)\n",
    "closed_issues.is_closed()\n",
    "closed_issues.get_cardinality(\"id\").by_period()\n",
    "closed_ts = get_timeseries(closed_issues)\n",
    "\n",
    "opened_issues =Issues(github_index)\n",
    "opened_issues.since(start=start_date).until(end=end_date)\n",
    "opened_issues.get_cardinality(\"id\").by_period()\n",
    "opened_ts = get_timeseries(opened_issues)\n",
    "\n",
    "closed_opened_issues_bmi = pd.DataFrame(calculate_bmi(closed_ts, opened_ts))"
   ]
  },
  {
   "cell_type": "code",
   "execution_count": 16,
   "metadata": {},
   "outputs": [],
   "source": [
    "figure(figsize=(10, 8), dpi=80, facecolor='w', edgecolor='k')\n",
    "plt.bar(closed_opened_issues_bmi['period'], closed_opened_issues_bmi['bmi'], 5, color=\"blue\")\n",
    "plt.title('BMI: Closed/Submitted issues', fontsize=30)\n",
    "plt.xlabel('Date', fontsize=20)\n",
    "plt.ylabel('BMI', fontsize=20)\n",
    "plt.savefig(\"images/closed_submitted_issues_bmi.png\")"
   ]
  },
  {
   "cell_type": "code",
   "execution_count": 17,
   "metadata": {},
   "outputs": [],
   "source": [
    "pdf.add_page()\n",
    "pdf.image(\"images/closed_submitted_issues_bmi.png\", x=5, y=5, w=200, h=200)"
   ]
  },
  {
   "cell_type": "markdown",
   "metadata": {},
   "source": [
    "And, in a similar manner, we calculate BMI for closed and submitted PRs. For perceval, it's quite good!"
   ]
  },
  {
   "cell_type": "code",
   "execution_count": 18,
   "metadata": {},
   "outputs": [],
   "source": [
    "# PRs closed/ PRs submitted\n",
    "closed_pr = PullRequests(github_index)\n",
    "closed_pr.since(start=start_date).until(end=end_date)\n",
    "closed_pr.is_closed()\n",
    "closed_pr.get_cardinality(\"id\").by_period()\n",
    "closed_ts = get_timeseries(closed_pr)\n",
    "\n",
    "opened_pr = PullRequests(github_index)\n",
    "opened_pr.since(start=start_date).until(end=end_date)\n",
    "opened_pr.get_cardinality(\"id\").by_period()\n",
    "opened_ts = get_timeseries(opened_pr)\n",
    "\n",
    "closed_opened_prs_bmi = pd.DataFrame(calculate_bmi(closed_ts, opened_ts))"
   ]
  },
  {
   "cell_type": "code",
   "execution_count": 19,
   "metadata": {},
   "outputs": [],
   "source": [
    "figure(figsize=(15, 7.5), dpi=80, facecolor='w', edgecolor='k')\n",
    "plt.bar(closed_opened_prs_bmi['period'], closed_opened_prs_bmi['bmi'], 5, color=\"blue\")\n",
    "plt.title('BMI: Closed/Submitted PRs', fontsize=30)\n",
    "plt.xlabel('Date', fontsize=20)\n",
    "plt.ylabel('BMI', fontsize=20)\n",
    "plt.savefig(\"images/closed_submitted_prs_bmi.png\")"
   ]
  },
  {
   "cell_type": "code",
   "execution_count": 20,
   "metadata": {},
   "outputs": [],
   "source": [
    "pdf.add_page()\n",
    "pdf.image(\"images/closed_submitted_prs_bmi.png\", x=5, y=5, w=200, h=200)"
   ]
  },
  {
   "cell_type": "markdown",
   "metadata": {},
   "source": [
    "Next we look at, the time to close days [average and median]  over time"
   ]
  },
  {
   "cell_type": "code",
   "execution_count": 21,
   "metadata": {},
   "outputs": [],
   "source": [
    "# days to close review(PR) average\n",
    "closed_pr = PullRequests(github_index)\n",
    "closed_pr.since(start=start_date).until(end=end_date)\n",
    "closed_pr.is_closed()\n",
    "closed_pr.get_average(\"time_to_close_days\").by_period()\n",
    "averages = get_timeseries(closed_pr, dataframe=True)\n",
    "averages = averages.rename(columns={\"value\":\"average\"})\n",
    "\n",
    "closed_pr.get_percentiles(\"time_to_close_days\").by_period()\n",
    "percentiles = get_timeseries(closed_pr, dataframe=True)\n",
    "median = percentiles.rename(columns={\"value\":\"median\"})\n",
    "\n",
    "averages_and_median = pd.concat([averages, median], axis=1)"
   ]
  },
  {
   "cell_type": "code",
   "execution_count": 22,
   "metadata": {},
   "outputs": [],
   "source": [
    "del averages_and_median['unixtime']"
   ]
  },
  {
   "cell_type": "code",
   "execution_count": 23,
   "metadata": {},
   "outputs": [],
   "source": [
    "ax = averages_and_median.plot.bar(figsize=(20,10))\n",
    "ticklabels = averages_and_median.index.strftime('%Y-%m-%d')\n",
    "ax.xaxis.set_major_formatter(matplotlib.ticker.FixedFormatter(ticklabels))\n",
    "plt.title('Time to close days: PRs', fontsize=30)\n",
    "plt.savefig(\"images/averages_and_median_prs.png\")"
   ]
  },
  {
   "cell_type": "code",
   "execution_count": 24,
   "metadata": {},
   "outputs": [],
   "source": [
    "pdf.add_page()\n",
    "pdf.image(\"images/averages_and_median_prs.png\", x=5, y=5, w=200, h=200)"
   ]
  },
  {
   "cell_type": "code",
   "execution_count": 25,
   "metadata": {},
   "outputs": [
    {
     "data": {
      "text/plain": [
       "''"
      ]
     },
     "execution_count": 25,
     "metadata": {},
     "output_type": "execute_result"
    }
   ],
   "source": [
    "pdf.output('pdfs/sample_static_metrics.pdf', \"F\")"
   ]
  }
 ],
 "metadata": {
  "kernelspec": {
   "display_name": "Python 3",
   "language": "python",
   "name": "python3"
  },
  "language_info": {
   "codemirror_mode": {
    "name": "ipython",
    "version": 3
   },
   "file_extension": ".py",
   "mimetype": "text/x-python",
   "name": "python",
   "nbconvert_exporter": "python",
   "pygments_lexer": "ipython3",
   "version": "3.6.3"
  }
 },
 "nbformat": 4,
 "nbformat_minor": 2
}
