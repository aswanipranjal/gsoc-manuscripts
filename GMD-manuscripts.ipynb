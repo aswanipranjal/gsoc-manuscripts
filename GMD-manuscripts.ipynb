{
 "cells": [
  {
   "cell_type": "markdown",
   "metadata": {},
   "source": [
    "# Growth Maturity Decline for Manuscripts\n",
    "\n",
    "This Jupyter-lab notebook is about creating functions defining and showing the CHAOSS-GMD metrics. These functions will be incorporated into the Manuscripts project. We will also be testing visualizatons in this notebook.\n",
    "\n",
    "We'll be using the local elasticsearch instance and an already inserted index. This index has been created using the `p2o.py` script from the grimoirelab-toolset.\n",
    "\n",
    "We will start by importing the necessary libraries and initializing the necessary variables:"
   ]
  },
  {
   "cell_type": "code",
   "execution_count": 1,
   "metadata": {},
   "outputs": [],
   "source": [
    "import os\n",
    "import elasticsearch\n",
    "\n",
    "from elasticsearch_dsl import Search\n",
    "from pprint import pprint\n",
    "\n",
    "import altair as alt\n",
    "import pandas as pd\n",
    "\n",
    "from datetime import date, timezone\n",
    "from dateutil import parser, relativedelta\n",
    "\n",
    "from manuscripts.manuscripts import esquery\n",
    "from manuscripts.manuscripts import metrics"
   ]
  },
  {
   "cell_type": "code",
   "execution_count": 3,
   "metadata": {},
   "outputs": [],
   "source": [
    "# address of the local elasticsearch instance\n",
    "es_url = \"http://localhost:9200\"\n",
    "\n",
    "# names of the git and github indices to be used\n",
    "git_index = \"perceval_git\"\n",
    "github_index = \"perceval_github\"\n",
    "\n",
    "# time interval in which the analysis has to be done\n",
    "end_date = parser.parse(date.today().strftime('%Y-%m-%d')).replace(tzinfo=timezone.utc)\n",
    "# start_date = end_date - relativedelta.relativedelta(months=18) \n",
    "start_date = date(2014, 1, 1)"
   ]
  },
  {
   "cell_type": "markdown",
   "metadata": {},
   "source": [
    "The idea here is to divide the current reporting system into two parts: The metrics that are currently generated will have no change. \n",
    "Other than that, specific CHAOSS metrics can be generated using the `--chaoss` flag when calling the manuscripts command.\n",
    "\n",
    "We can start by adding a class method named `def get_chaoss_metrics(cls):` to each of the classes in the data sources:\n",
    "```\n",
    "class GitHubIssues(its.ITS):\n",
    "    name = \"github_issues\"\n",
    "    \n",
    "    @classmethod\n",
    "    def get_chaoss_metrics(cls):\n",
    "        return {\n",
    "            \"issue_resolution\" : {\n",
    "                \"open\": [Open],\n",
    "                \"closed\": [Closed],\n",
    "                \"issue_resolution_efficiency\": [],\n",
    "                \"open_issue_age\": [],\n",
    "                \"first_response_to_issue_duration\": [],\n",
    "                \"closed_issue_resolution_Duration\": [],\n",
    "            }\n",
    "        }\n",
    "```"
   ]
  },
  {
   "cell_type": "markdown",
   "metadata": {},
   "source": [
    "We will go with the structure already defined in Manuscripts:"
   ]
  },
  {
   "cell_type": "code",
   "execution_count": 34,
   "metadata": {},
   "outputs": [],
   "source": [
    "from manuscripts.manuscripts.metrics import github_issues, its, metrics"
   ]
  },
  {
   "cell_type": "markdown",
   "metadata": {},
   "source": [
    "### Issue Resolution\n",
    "\n",
    "- Open issues\n",
    "\n",
    "(Only create the classes that are not present and reuse code where possible)"
   ]
  },
  {
   "cell_type": "code",
   "execution_count": 5,
   "metadata": {},
   "outputs": [],
   "source": [
    "# this class goes into the its.py file in manuscripts/metrics folder\n",
    "# names of the classes will be changed according to the pattern used in that file\n",
    "\n",
    "class ITSOpen(its.ITSMetrics):\n",
    "    \"\"\" Tickets Open metric class for issue tracking systems \"\"\"\n",
    "    id = \"open\"\n",
    "    name = \"Open tickets\"\n",
    "    desc = \"Number of tickets currently open\"\n",
    "    FIELD_COUNT = \"id\"\n",
    "    FIELD_NAME = \"url\"\n",
    "    FIELD_DATE = \"created_at\""
   ]
  },
  {
   "cell_type": "code",
   "execution_count": 6,
   "metadata": {},
   "outputs": [],
   "source": [
    "# this class goes into github_issues.py file in manuscripts/metrics folder\n",
    "\n",
    "class Open(ITSOpen):\n",
    "    ds = github_issues.GitHubIssues\n",
    "    filters = {\"pull_request\": \"false\", \"state\": \"open\"}"
   ]
  },
  {
   "cell_type": "markdown",
   "metadata": {},
   "source": [
    "The Open class can be called inside report.py file"
   ]
  },
  {
   "cell_type": "code",
   "execution_count": 17,
   "metadata": {},
   "outputs": [],
   "source": [
    "open_issues = Open(es_url, github_index, start=start_date, end=end_date)"
   ]
  },
  {
   "cell_type": "code",
   "execution_count": 14,
   "metadata": {},
   "outputs": [
    {
     "data": {
      "text/plain": [
       "22"
      ]
     },
     "execution_count": 14,
     "metadata": {},
     "output_type": "execute_result"
    }
   ],
   "source": [
    "open_issues.get_agg()"
   ]
  },
  {
   "cell_type": "markdown",
   "metadata": {},
   "source": [
    "- Closed issues"
   ]
  },
  {
   "cell_type": "code",
   "execution_count": 15,
   "metadata": {},
   "outputs": [],
   "source": [
    "closed_issues = github_issues.Closed(es_url, github_index, start=start_date, end=end_date)"
   ]
  },
  {
   "cell_type": "code",
   "execution_count": 16,
   "metadata": {},
   "outputs": [
    {
     "data": {
      "text/plain": [
       "113"
      ]
     },
     "execution_count": 16,
     "metadata": {},
     "output_type": "execute_result"
    }
   ],
   "source": [
    "closed_issues.get_agg()"
   ]
  },
  {
   "cell_type": "markdown",
   "metadata": {},
   "source": [
    "- Issue Resolution Efficiency (What is the number of closed issues/number of abandoned issues?)\n",
    "\n",
    "How do we say that an issue has been abandoned?"
   ]
  },
  {
   "cell_type": "markdown",
   "metadata": {},
   "source": [
    "- Open issue age"
   ]
  },
  {
   "cell_type": "code",
   "execution_count": 35,
   "metadata": {},
   "outputs": [],
   "source": [
    "class AgeOpenIssue(metrics.Metrics):\n",
    "    ds = github_issues.GitHubIssues\n",
    "    \n",
    "    id = \"age_open_issues\"\n",
    "    name = \"Age of open issues\"\n",
    "    desc = \"Number of days since the open issues were created\"\n",
    "    FIELD_COUNT = 'time_open_days'\n",
    "    AGG_TYPE = 'terms'\n",
    "    filters = {\"pull_request\": \"false\", \"state\": \"open\"}\n",
    "\n",
    "    def get_agg(self):\n",
    "        agg = super(type(self), self).get_agg()\n",
    "        if agg is None:\n",
    "            agg = 0  # None is because NaN in ES. Let's convert to 0\n",
    "        return agg"
   ]
  },
  {
   "cell_type": "code",
   "execution_count": 37,
   "metadata": {},
   "outputs": [],
   "source": [
    "age_open_issues = AgeOpenIssue(es_url, github_index, start=start_date, end=end_date)"
   ]
  },
  {
   "cell_type": "code",
   "execution_count": 43,
   "metadata": {},
   "outputs": [
    {
     "data": {
      "text/plain": [
       "'{\"query\": {\"bool\": {\"must\": [{\"match\": {\"pull_request\": \"false\"}}, {\"match\": {\"state\": \"open\"}}, {\"range\": {\"grimoire_creation_date\": {\"gte\": \"2014-01-01\", \"lte\": \"2018-05-09T00:00:00+00:00\"}}}]}}, \"aggs\": {\"1\": {\"terms\": {\"field\": \"time_open_days\"}}}, \"from\": 0, \"size\": 0}'"
      ]
     },
     "execution_count": 43,
     "metadata": {},
     "output_type": "execute_result"
    }
   ],
   "source": [
    "age_open_issues.get_query()"
   ]
  },
  {
   "cell_type": "code",
   "execution_count": 46,
   "metadata": {},
   "outputs": [
    {
     "data": {
      "text/plain": [
       "{'_shards': {'failed': 0, 'skipped': 0, 'successful': 5, 'total': 5},\n",
       " 'aggregations': {'1': {'buckets': [{'doc_count': 1,\n",
       "     'key': 38.900001525878906},\n",
       "    {'doc_count': 1, 'key': 76.95999908447266},\n",
       "    {'doc_count': 1, 'key': 83.83999633789062},\n",
       "    {'doc_count': 1, 'key': 88.52999877929688},\n",
       "    {'doc_count': 1, 'key': 158.82000732421875},\n",
       "    {'doc_count': 1, 'key': 159.47999572753906},\n",
       "    {'doc_count': 1, 'key': 161.77000427246094},\n",
       "    {'doc_count': 1, 'key': 361.70001220703125},\n",
       "    {'doc_count': 1, 'key': 363.4200134277344},\n",
       "    {'doc_count': 1, 'key': 440.30999755859375}],\n",
       "   'doc_count_error_upper_bound': 0,\n",
       "   'sum_other_doc_count': 12}},\n",
       " 'hits': {'hits': [], 'max_score': 0.0, 'total': 22},\n",
       " 'timed_out': False,\n",
       " 'took': 5}"
      ]
     },
     "execution_count": 46,
     "metadata": {},
     "output_type": "execute_result"
    }
   ],
   "source": [
    "age_open_issues.get_metrics_data(age_open_issues.get_query())"
   ]
  },
  {
   "cell_type": "code",
   "execution_count": null,
   "metadata": {},
   "outputs": [],
   "source": []
  }
 ],
 "metadata": {
  "kernelspec": {
   "display_name": "Python 3",
   "language": "python",
   "name": "python3"
  },
  "language_info": {
   "codemirror_mode": {
    "name": "ipython",
    "version": 3
   },
   "file_extension": ".py",
   "mimetype": "text/x-python",
   "name": "python",
   "nbconvert_exporter": "python",
   "pygments_lexer": "ipython3",
   "version": "3.6.3"
  }
 },
 "nbformat": 4,
 "nbformat_minor": 2
}
