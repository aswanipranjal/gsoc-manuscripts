{
 "cells": [
  {
   "cell_type": "markdown",
   "metadata": {},
   "source": [
    "# Altair-testing\n",
    "\n",
    "In this notebook, we'll take a look at the [Altair](https://altair-viz.github.io/) data visualization library. Altair is a statistical visualisation library based on Vega-lite."
   ]
  },
  {
   "cell_type": "markdown",
   "metadata": {},
   "source": [
    "We'll still be looking at the [GMD metrics](https://github.com/chaoss/metrics/blob/master/2_Growth-Maturity-Decline.md)"
   ]
  },
  {
   "cell_type": "code",
   "execution_count": 1,
   "metadata": {},
   "outputs": [],
   "source": [
    "import sys\n",
    "sys.path.insert(0, \"..\")\n",
    "# analysis modules\n",
    "import pandas as pd\n",
    "\n",
    "from elasticsearch_dsl import A, Q, Search\n",
    "\n",
    "# utility and support modules\n",
    "from manuscripts.manuscripts2.new_functions import Query, Index, buckets_to_df, calculate_bmi\n",
    "from manuscripts.manuscripts2.derived_classes import PullRequests, Issues\n",
    "from pprint import pprint\n",
    "from datetime import datetime, timezone\n",
    "from dateutil import parser, relativedelta\n",
    "\n",
    "import altair as alt"
   ]
  },
  {
   "cell_type": "code",
   "execution_count": 2,
   "metadata": {},
   "outputs": [],
   "source": [
    "# declare the necessary variables\n",
    "github_data_source = \"perceval_github\"\n",
    "git_data_source = \"perceval_git\"\n",
    "\n",
    "github_index = Index(github_data_source)\n",
    "git_index = Index(git_data_source)\n",
    "\n",
    "start_date = datetime(2014, 8, 1)\n",
    "start_date = start_date # \"2014-08-01\"\n",
    "end_date = datetime(2018, 5, 22)\n",
    "end_date = end_date"
   ]
  },
  {
   "cell_type": "markdown",
   "metadata": {},
   "source": [
    "## Issue Resolution\n",
    "Goal: Identify how effective the community is at addressing issues identified by community partcipants.\n",
    "\n",
    "Name | Question | Implemented | Issue | PR | Visualisation \n",
    "--- | --- | --- | --- | --- | --- |\n",
    "[Open Issues](https://github.com/chaoss/metrics/tree/master/activity-metrics/open-issues.md) | What is the number of open issues? | Yes | None | None | No\n",
    "[Closed Issues](https://github.com/chaoss/metrics/tree/master/activity-metrics/closed-issues.md) | What is the number of closed issues? | Yes | None | None | No\n",
    "[Issue Resolution Efficiency](https://github.com/chaoss/metrics/tree/master/activity-metrics/issue-resolution-efficiency.md) | What is the number of closed issues/number of abandoned issues? | Yes | [wg-gmd#5](https://github.com/chaoss/wg-gmd/issues/5) | None | No\n",
    "[Open Issue Age](https://github.com/chaoss/metrics/tree/master/activity-metrics/open-issue-age.md) | What is the the age of open issues? | Yes | None | None | No\n",
    "[First Response to Issue Duration](https://github.com/chaoss/metrics/tree/master/activity-metrics/first-response-to-issue-duration.md) | What is the duration of time for a first response to an issue? | No | [wg-gmd#8](https://github.com/chaoss/wg-gmd/issues/8) | None | No\n",
    "[Closed Issue Resolution Duration](https://github.com/chaoss/metrics/tree/master/activity-metrics/closed-issue-resolution-duration.md) | What is the duration of time for issues to be resolved? | Yes | [wg-gmd#7](https://github.com/chaoss/wg-gmd/issues/7) | None | No"
   ]
  },
  {
   "cell_type": "markdown",
   "metadata": {},
   "source": [
    "### Distribution of issues by month over time\n",
    "\n",
    "Looking at a monthly distribution of the number of issues created each month and the number of issues closed each month."
   ]
  },
  {
   "cell_type": "code",
   "execution_count": null,
   "metadata": {},
   "outputs": [],
   "source": [
    "opened_issues = Issues(github_index)\n",
    "opened_issues_df = opened_issues.get_cardinality(\"id_in_repo\").by_period().get_ts(True)\n",
    "\n",
    "closed_issues = Issues(github_index)\n",
    "closed_issues.is_closed()\n",
    "closed_issues_df = closed_issues.get_cardinality(\"id_in_repo\").by_period(field=\"closed_at\").get_ts(True)\n",
    "# here the closed_at date is the date when the issue was closed, which is logical when we are looking at distribution\n",
    "# of issues created/closed per month\n",
    "\n",
    "remaining_issues = Issues(github_index)\n",
    "remaining_issues.is_open()\n",
    "remaining_issues_df = remaining_issues.get_cardinality(\"id_in_repo\").by_period().get_ts(True)\n",
    "\n",
    "result_df = pd.concat([opened_issues_df, closed_issues_df, remaining_issues_df], axis=1, sort=False)\n",
    "del result_df['unixtime']\n",
    "result_df.columns = ['opened_issues', 'closed_issues', 'remaining_issues']"
   ]
  },
  {
   "cell_type": "code",
   "execution_count": null,
   "metadata": {},
   "outputs": [],
   "source": [
    "result_df"
   ]
  },
  {
   "cell_type": "markdown",
   "metadata": {},
   "source": [
    "The reason that Altair differs from Plotly is that it uses [tidy data](http://nbviewer.jupyter.org/github/jfpuget/Tidy-Data/blob/master/Tidy-Data.ipynb) to create virtualizations."
   ]
  },
  {
   "cell_type": "code",
   "execution_count": null,
   "metadata": {},
   "outputs": [],
   "source": [
    "# converting the messy data into tidy data\n",
    "\n",
    "result_df = result_df.stack().reset_index()\n",
    "result_df.columns = ['Date', 'issue_type', 'count']\n",
    "result_df['Date'] = result_df['Date'].apply(datetime.isoformat)"
   ]
  },
  {
   "cell_type": "markdown",
   "metadata": {},
   "source": [
    "**NOTE: All the visualizations here are interactive as we are appending the `interactive()` function at the end of them. You can zoom in and out of these graphs!!**\n",
    "The fun part about Altair is that we can use a variety of formats to show the same data, some of them have been shown below:\n",
    "\n",
    "As points"
   ]
  },
  {
   "cell_type": "code",
   "execution_count": null,
   "metadata": {},
   "outputs": [],
   "source": [
    "result_df"
   ]
  },
  {
   "cell_type": "code",
   "execution_count": null,
   "metadata": {},
   "outputs": [],
   "source": [
    "import altair as alt\n",
    "from vega_datasets import data\n",
    "\n",
    "weather = data.seattle_weather.url\n",
    "brush = alt.selection(type='interval', encodings=['x'])\n",
    "\n",
    "bars = alt.Chart().mark_bar().encode(\n",
    "    x='month(date):O',\n",
    "    y='mean(precipitation):Q',\n",
    "    opacity=alt.condition(brush, alt.OpacityValue(1), alt.OpacityValue(0.7))\n",
    ").add_selection(\n",
    "    brush\n",
    ")\n",
    "\n",
    "line = alt.Chart().mark_rule(color='firebrick').encode(\n",
    "    y='mean(precipitation):Q',\n",
    "    size=alt.SizeValue(3)\n",
    ").transform_filter(\n",
    "    brush\n",
    ")\n",
    "\n",
    "alt.layer(bars, line, data=weather)"
   ]
  },
  {
   "cell_type": "code",
   "execution_count": null,
   "metadata": {},
   "outputs": [],
   "source": [
    "alt.Chart(result_df).mark_point().encode(\n",
    "    x='Date',\n",
    "    y='count',\n",
    "    color='issue_type',\n",
    ").interactive()"
   ]
  },
  {
   "cell_type": "markdown",
   "metadata": {},
   "source": [
    "As a trail"
   ]
  },
  {
   "cell_type": "code",
   "execution_count": null,
   "metadata": {},
   "outputs": [],
   "source": [
    "alt.Chart(result_df).mark_trail().encode(\n",
    "    x='Date',\n",
    "    y='count',\n",
    "    color='issue_type',\n",
    ").interactive()"
   ]
  },
  {
   "cell_type": "markdown",
   "metadata": {},
   "source": [
    "As bars"
   ]
  },
  {
   "cell_type": "code",
   "execution_count": null,
   "metadata": {},
   "outputs": [],
   "source": [
    "alt.Chart(result_df).mark_bar().encode(\n",
    "    x='Date',\n",
    "    y='count',\n",
    "    color='issue_type',\n",
    ").interactive()"
   ]
  },
  {
   "cell_type": "markdown",
   "metadata": {},
   "source": [
    "As area"
   ]
  },
  {
   "cell_type": "code",
   "execution_count": null,
   "metadata": {},
   "outputs": [],
   "source": [
    "alt.Chart(result_df).mark_area().encode(\n",
    "    x='Date',\n",
    "    y='count',\n",
    "    color='issue_type',\n",
    ").interactive()"
   ]
  },
  {
   "cell_type": "markdown",
   "metadata": {},
   "source": [
    "And to make this a horizontal graph, all we need to do is switch the axes!"
   ]
  },
  {
   "cell_type": "code",
   "execution_count": null,
   "metadata": {},
   "outputs": [],
   "source": [
    "alt.Chart(result_df).mark_bar().encode(\n",
    "    y='Date',\n",
    "    x='count',\n",
    "    color='issue_type',\n",
    ").interactive()"
   ]
  },
  {
   "cell_type": "markdown",
   "metadata": {},
   "source": [
    "We can also save this chart as a png file locally. More information can be found on [Altair's website](https://altair-viz.github.io/user_guide/saving_charts.html?highlight=png)"
   ]
  },
  {
   "cell_type": "code",
   "execution_count": null,
   "metadata": {},
   "outputs": [],
   "source": [
    "chart = alt.Chart(result_df).mark_point().encode(\n",
    "    x='Date',\n",
    "    y='count',\n",
    "    color='issue_type',\n",
    ")\n",
    "\n",
    "chart.save(\"images/altair-closed-opened-issues.png\")"
   ]
  },
  {
   "cell_type": "markdown",
   "metadata": {},
   "source": [
    "#### Closed and Opened issues by authors:"
   ]
  },
  {
   "cell_type": "markdown",
   "metadata": {},
   "source": [
    "Here we are plotting the number of issues opened and closed by the respective authors."
   ]
  },
  {
   "cell_type": "code",
   "execution_count": null,
   "metadata": {},
   "outputs": [],
   "source": [
    "closed_issues = Issues(github_index)\n",
    "closed_issues.is_closed()\n",
    "closed_by_authors = closed_issues.get_cardinality(\"id_in_repo\").by_authors(\"author_name\").fetch_aggregation_results()\n",
    "\n",
    "opened_issues = Issues(github_index)\n",
    "opened_by_authors = opened_issues.get_cardinality(\"id_in_repo\").by_authors(\"author_name\").fetch_aggregation_results()\n",
    "\n",
    "closed_by_author_buckets = closed_by_authors['aggregations']['0']['buckets']\n",
    "opened_by_author_buckets = opened_by_authors['aggregations']['0']['buckets']\n",
    "\n",
    "closed_by_author_buckets_df = buckets_to_df(closed_by_author_buckets)\n",
    "closed_by_author_buckets_df = closed_by_author_buckets_df.rename({\"0\":\"closed_issues\"}, axis='columns')\n",
    "closed_by_author_buckets_df.drop(\"doc_count\", axis=1)\n",
    "#closed_by_author_buckets_df = closed_by_author_buckets_df.set_index(\"key\", drop=False)\n",
    "\n",
    "\n",
    "opened_by_author_buckets_df = buckets_to_df(opened_by_author_buckets)\n",
    "opened_by_author_buckets_df = opened_by_author_buckets_df.rename({\"0\":\"opened_issues\"}, axis='columns')\n",
    "opened_by_author_buckets_df.drop(\"doc_count\",axis=1)\n",
    "\n",
    "all_issues = pd.merge(opened_by_author_buckets_df, closed_by_author_buckets_df, on=\"key\")\n",
    "all_issues = all_issues.drop(['doc_count_x', 'doc_count_y'], axis=1)\n",
    "all_issues = all_issues.set_index('key')"
   ]
  },
  {
   "cell_type": "code",
   "execution_count": null,
   "metadata": {},
   "outputs": [],
   "source": [
    "all_issues = all_issues.stack().reset_index()\n",
    "all_issues.columns = ['key', 'issue_type', 'count']"
   ]
  },
  {
   "cell_type": "code",
   "execution_count": null,
   "metadata": {},
   "outputs": [],
   "source": [
    "alt.Chart(all_issues).mark_bar().encode(\n",
    "    x='count',\n",
    "    y='key',\n",
    "    color='issue_type'\n",
    ").interactive()"
   ]
  },
  {
   "cell_type": "markdown",
   "metadata": {},
   "source": [
    "<a id=\"closed_issues\"></a>\n",
    "### open issue age\n",
    "\n",
    "As per the [discussion here](https://github.com/chaoss/metrics/blob/master/activity-metrics/open-issue-age.md), We'll calculate the percentile, mean, variance and create some visualisations for this metric."
   ]
  },
  {
   "cell_type": "code",
   "execution_count": null,
   "metadata": {},
   "outputs": [],
   "source": [
    "issue = Issues(github_index)\n",
    "issue.is_open()\n",
    "percentiles = issue.get_percentiles(\"time_open_days\").get_aggs()\n",
    "print(\"Percentiles: \", percentiles)\n",
    "\n",
    "issue.get_extended_stats(\"time_open_days\")\n",
    "extended_stats = issue.fetch_aggregation_results()['aggregations']['1']\n",
    "pprint(extended_stats)"
   ]
  },
  {
   "cell_type": "markdown",
   "metadata": {},
   "source": [
    "Here we plot the number of issues that are still open using bar graphs."
   ]
  },
  {
   "cell_type": "code",
   "execution_count": null,
   "metadata": {},
   "outputs": [],
   "source": [
    "time_open_days_issues = Issues(github_index)\n",
    "time_open_days_issues.is_open()\n",
    "time_open_days_df = time_open_days_issues.fetch_results_from_source('time_open_days', 'id_in_repo', dataframe=True)\n",
    "time_open_days_df['time_open_days'] = time_open_days_df['time_open_days'].apply(int)\n",
    "\n",
    "time_open_days_df = time_open_days_df.sort_values(by=\"time_open_days\")\n",
    "alt.Chart(time_open_days_df).mark_bar().encode(\n",
    "    x=\"id_in_repo\",\n",
    "    y='time_open_days'\n",
    ")"
   ]
  },
  {
   "cell_type": "markdown",
   "metadata": {},
   "source": [
    "### Closed issue resolution duration (Time to resolution of closed issue)"
   ]
  },
  {
   "cell_type": "markdown",
   "metadata": {},
   "source": [
    "For Closed Issue resolution duration, we'll look at the the max_val(99th percentile), min_val(1st percentile), q1(25th percentile), q3(75th percentile) and the median value. We'll plot a simple [boxplot](https://altair-viz.github.io/gallery/boxplot_max_min.html) using the above values"
   ]
  },
  {
   "cell_type": "code",
   "execution_count": null,
   "metadata": {},
   "outputs": [],
   "source": [
    "closed_issues = Issues(github_index)\n",
    "closed_issues.is_closed()\n",
    "\n",
    "closed_issues.get_extended_stats(\"time_to_close_days\")\n",
    "extended_stats = closed_issues.fetch_aggregation_results()['aggregations']['0']\n",
    "pprint(extended_stats)"
   ]
  },
  {
   "cell_type": "code",
   "execution_count": null,
   "metadata": {},
   "outputs": [],
   "source": [
    "closed_issues.get_percentiles(\"time_to_close_days\", percents=[25.0]).by_period(period=\"month\")\n",
    "closed_issues.get_percentiles(\"time_to_close_days\", percents=[75.0]).by_period(period=\"month\")\n",
    "closed_issues.get_percentiles(\"time_to_close_days\", percents=[1.0]).by_period(period=\"month\")\n",
    "closed_issues.get_percentiles(\"time_to_close_days\", percents=[99.0]).by_period(period=\"month\")\n",
    "closed_issues.get_percentiles(\"time_to_close_days\", percents=[50.0]).by_period(period=\"month\")\n",
    "response = closed_issues.fetch_aggregation_results()['aggregations']['1']['buckets']\n",
    "\n",
    "ls = []\n",
    "for item in response:\n",
    "    temp={}\n",
    "    temp['date'] = parser.parse(item['key_as_string']).isoformat()\n",
    "    temp['percentile_25'] = item['0']['values']['25.0']\n",
    "    temp['percentile_75'] = item['1']['values']['75.0']\n",
    "    temp['min_val'] = item['2']['values']['1.0']\n",
    "    temp['max_val'] = item['3']['values']['99.0']\n",
    "    temp['average'] = item['4']['values']['50.0']\n",
    "    ls.append(temp)\n",
    "\n",
    "closed_issue_resolution_duration_df = pd.DataFrame(ls)\n",
    "\n",
    "# Compose each layer individually\n",
    "lower_plot = alt.Chart(closed_issue_resolution_duration_df).mark_rule().encode(\n",
    "    y=alt.Y(\"min_val\", axis=alt.Axis(title=\"time_to_close_days\")),\n",
    "    y2=\"percentile_25\",\n",
    "    x='date'\n",
    ")\n",
    "\n",
    "middle_plot = alt.Chart(closed_issue_resolution_duration_df).mark_bar(size=5.0).encode(\n",
    "    y=\"percentile_25\",\n",
    "    y2=\"percentile_75\",\n",
    "    x='date'\n",
    ")\n",
    "\n",
    "upper_plot = alt.Chart(closed_issue_resolution_duration_df).mark_rule().encode(\n",
    "    y=\"max_val\",\n",
    "    y2=\"percentile_75\",\n",
    "    x='date'\n",
    ")\n",
    "\n",
    "middle_tick = alt.Chart(closed_issue_resolution_duration_df).mark_tick(\n",
    "    color='white',\n",
    "    size=5.0\n",
    ").encode(\n",
    "    y='average',\n",
    "    x='date',\n",
    ")\n",
    "\n",
    "(lower_plot + middle_plot + upper_plot + middle_tick).interactive().properties(width=1000)"
   ]
  },
  {
   "cell_type": "markdown",
   "metadata": {},
   "source": [
    "## Code Development\n",
    "Goal: Identify how effective the community is at merging new code into the codebase.\n",
    "\n",
    "Name | Question | Implemented | Issue | PR\n",
    "--- | --- | --- | --- | --- |\n",
    "[Code Commits](https://github.com/chaoss/metrics/tree/master/activity-metrics/code-commits.md) | What is the number of code commits? | Yes | None | None\n",
    "[Lines of Code Changed](https://github.com/chaoss/metrics/tree/master/activity-metrics/lines-of-code-changed.md) | What is the number of lines of code changed? | Yes | None | None\n",
    "[Code Reviews](https://github.com/chaoss/metrics/tree/master/activity-metrics/code-reviews.md) | What is the number of code reviews?\n",
    "[Code Merge Duration](https://github.com/chaoss/metrics/tree/master/activity-metrics/code-merge-duration.md) | What is the duration of time between code merge request and code commit?\n",
    "[Code Review Efficiency](https://github.com/chaoss/metrics/tree/master/activity-metrics/code-review-efficiency.md) | What is the number of merged code changes/number of abandoned code change requests?\n",
    "[Maintainer Response to Merge Request Duration](https://github.com/chaoss/metrics/tree/master/activity-metrics/maintainer-response-to-merge-request-duration.md) | What is the duration of time for a maintainer to make a first response to a code merge request?\n",
    "[Code Review Iteration](https://github.com/chaoss/metrics/tree/master/activity-metrics/code-review-iteration.md) | What is the number of iterations that occur before a merge request is accepted or declined?\n",
    "[Forks](https://github.com/chaoss/metrics/tree/master/activity-metrics/forks.md) | Forks are a concept in distributed version control systems like GitHub. It is a proxy for the approximate number of developers who have taken a shot at building and deploying the codebase *for development*.\n",
    "[Pull Requests Open](https://github.com/chaoss/metrics/tree/master/activity-metrics/pull-requests-open.md) | Number of open pull requests. | Yes | None | None | \n",
    "[Pull Requests Closed](https://github.com/chaoss/metrics/tree/master/activity-metrics/pull-requests-made-closed.md) | Number of closed pull requests. | Yes | None | None |\n",
    "[Pull Request Comment Duration](https://github.com/chaoss/metrics/tree/master/activity-metrics/pull-requests-comment-duration.md) | The difference between the timestamp of the pull request creation date and the most recent comment on the pull request.\n",
    "[Pull Request Comment Diversity](https://github.com/chaoss/metrics/tree/master/activity-metrics/pull-requests-comment-diversity.md) | Number of each people discussing each pull request.\n",
    "[Pull Request Comments](https://github.com/chaoss/metrics/tree/master/activity-metrics/pull-request-comments.md) | Number of comments on each pull request. \n"
   ]
  },
  {
   "cell_type": "markdown",
   "metadata": {},
   "source": [
    "### code commits\n",
    "\n",
    "**NOTE:** HERE THE INDEX WILL HAVE TO BE CHANGED"
   ]
  },
  {
   "cell_type": "code",
   "execution_count": null,
   "metadata": {},
   "outputs": [],
   "source": [
    "commits = Query(git_index)\n",
    "commits.get_cardinality(\"hash\")\n",
    "total_commits = commits.get_aggs()\n",
    "print(\"total commits: \", total_commits)\n",
    "\n",
    "all_commits = commits.fetch_results_from_source(\"hash\", \"commit_date\")"
   ]
  },
  {
   "cell_type": "markdown",
   "metadata": {},
   "source": [
    "When you go to the [perceval github repo](https://github.com/chaoss/grimoirelab-perceval), you'll see that actually 1182 commit are present. That maybe because of some empty commit messages. "
   ]
  },
  {
   "cell_type": "code",
   "execution_count": null,
   "metadata": {},
   "outputs": [],
   "source": [
    "contributors = Query(git_index)\n",
    "\n",
    "commits_per_month_df = commits.get_cardinality(\"hash\").by_period(period=\"month\").get_ts(dataframe=True)\n",
    "\n",
    "#lines_changed_per_month_df = contributors.get_sum(\"lines_changed\").by_period(period=\"month\").get_ts(dataframe=True)\n",
    "#print(contributors.search.to_dict())\n",
    "#print(contributors.child_agg_counter_dict)\n",
    "\n",
    "files_changed_per_month_df = contributors.get_sum(\"files\").by_period(period=\"month\").get_ts(dataframe=True)\n",
    "#print(contributors.search.to_dict())\n",
    "\n",
    "all_metrics_df = pd.concat([commits_per_month_df, files_changed_per_month_df], axis=1, sort=False) \n",
    "del all_metrics_df['unixtime']\n",
    "all_metrics_df.columns = ['commits', 'files_changed']\n",
    "\n",
    "all_metrics_df = all_metrics_df.stack().reset_index()\n",
    "all_metrics_df.columns = ['date', 'parameter', 'value']\n",
    "all_metrics_df['date'] = all_metrics_df['date'].apply(datetime.isoformat)\n",
    "\n",
    "alt.Chart(all_metrics_df).mark_area().encode(\n",
    "    alt.X('date:T'),\n",
    "    alt.Y('value:Q', stack='center'),\n",
    "    alt.Color('parameter:N',\n",
    "        scale=alt.Scale(scheme='category20b')\n",
    "    )\n",
    ").interactive().properties(\n",
    "    width=1000,\n",
    "    height=600\n",
    ")"
   ]
  },
  {
   "cell_type": "markdown",
   "metadata": {},
   "source": [
    "This here, is a [stream graph](https://altair-viz.github.io/gallery/streamgraph.html), we can use this to compare values of different metrics. "
   ]
  },
  {
   "cell_type": "markdown",
   "metadata": {},
   "source": [
    "## Community Growth\n",
    "Goal: Identify the size of the project community and whether it's growing, shrinking, or staying the same.\n",
    "\n",
    "Name | Question | Implemented | Issue | PR\n",
    "--- | --- | --- | --- | --- |\n",
    "[Contributors](https://github.com/chaoss/metrics/tree/master/activity-metrics/contributors.md) | What is the number of contributors? | Yes | None | None\n",
    "[New Contributors](https://github.com/chaoss/metrics/tree/master/activity-metrics/new-contributors.md) | What is the number of new contributors? | Yes | None | None\n",
    "[Contributing Organizations](https://github.com/chaoss/metrics/tree/master/activity-metrics/contributing-organizations.md) | What is the number of contributing organizations? | Yes | None | None\n",
    "[New Contributing Organizations](https://github.com/chaoss/metrics/tree/master/activity-metrics/new-contributing-organizations.md) | What is the number of new contributing organizations?\n",
    "[Sub-Projects](https://github.com/chaoss/metrics/tree/master/activity-metrics/sub-projects.md) | What is the number of sub-projects?"
   ]
  },
  {
   "cell_type": "markdown",
   "metadata": {},
   "source": [
    "### Number of contributors"
   ]
  },
  {
   "cell_type": "markdown",
   "metadata": {},
   "source": [
    "Here, we are plotting the changes to the project by the authors seggregated by years."
   ]
  },
  {
   "cell_type": "code",
   "execution_count": null,
   "metadata": {},
   "outputs": [],
   "source": [
    "contributors = Query(git_index)\n",
    "\n",
    "author_contributions_by_year = []\n",
    "years = [\"2015\", \"2016\", \"2017\", \"2018\"]\n",
    "for year in years:\n",
    "    temp_df = None\n",
    "    contributors.since(parser.parse(year+\"-01-01\")).until(parser.parse(year+\"-12-31\")).get_sum(\"lines_changed\").by_authors(\"author_name\")\n",
    "    contributors.get_sum(\"lines_added\").by_authors(\"author_name\")\n",
    "    temp_df = buckets_to_df(contributors.get_sum(\"lines_removed\").by_authors(\"author_name\").fetch_aggregation_results()['aggregations']['0']['buckets'])\n",
    "    del temp_df['doc_count']\n",
    "    temp_df.columns = [\"lines_changed\", \"lines_added\", \"lines_removed\", \"author\"]\n",
    "    temp_df = temp_df.set_index(\"author\")\n",
    "    temp_df = temp_df.stack().reset_index()\n",
    "    temp_df.columns = ['authors', 'parameter', 'value']\n",
    "    temp_df['year'] = year\n",
    "    author_contributions_by_year.append(temp_df)\n",
    "\n",
    "author_contributions_by_year_df = pd.concat(author_contributions_by_year)"
   ]
  },
  {
   "cell_type": "code",
   "execution_count": null,
   "metadata": {},
   "outputs": [],
   "source": [
    "alt.Chart(author_contributions_by_year_df).mark_bar().encode(\n",
    "    column='year',\n",
    "    x='value',\n",
    "    y='authors',\n",
    "    color='parameter'\n",
    ").properties(\n",
    "    width=1000\n",
    ")"
   ]
  },
  {
   "cell_type": "markdown",
   "metadata": {},
   "source": [
    "And finally, we'll plot the corelation between the time open days and time to close days. Since for closed issues, it's one in the same thing, we can still use this technique to show the correlatin between different metrics."
   ]
  },
  {
   "cell_type": "code",
   "execution_count": null,
   "metadata": {},
   "outputs": [],
   "source": [
    "issues = Issues(github_index)\n",
    "pull_requests = PullRequests(github_index)\n",
    "\n",
    "issues_df = issues.fetch_results_from_source('time_open_days', 'time_to_close_days', dataframe=True)\n",
    "issues_df['type'] = \"issue\"\n",
    "pull_requests_df = pull_requests.fetch_results_from_source('time_open_days', 'time_to_close_days', dataframe=True)\n",
    "pull_requests_df['type'] = \"pull_request\"\n",
    "\n",
    "issues_and_prs_df = pd.concat([issues_df, pull_requests_df]).fillna(0)"
   ]
  },
  {
   "cell_type": "code",
   "execution_count": null,
   "metadata": {},
   "outputs": [],
   "source": [
    "xscale = alt.Scale(domain=(0.0, 900.0))\n",
    "yscale = alt.Scale(domain=(0.0, 900.0))\n",
    "\n",
    "area_args = {'opacity': .3, 'interpolate': 'step'}\n",
    "blank_axis = alt.Axis(title='')\n",
    "\n",
    "points = alt.Chart(issues_and_prs_df).mark_circle().encode(\n",
    "    alt.X('time_open_days', scale=xscale),\n",
    "    alt.Y('time_to_close_days', scale=yscale),\n",
    "    color='type',\n",
    ").properties(width=400, height=400)\n",
    "\n",
    "top_hist = alt.Chart(issues_and_prs_df).mark_area(**area_args).encode(\n",
    "    alt.X('time_open_days:Q',\n",
    "          # when using bins, the axis scale is set through\n",
    "          # the bin extent, so we do not specify the scale here\n",
    "          # (which would be ignored anyway)\n",
    "          bin=alt.Bin(maxbins=20, extent=xscale.domain),\n",
    "          stack=None,\n",
    "          axis=blank_axis,\n",
    "         ),\n",
    "    alt.Y('count()', stack=None, axis=blank_axis),\n",
    "    alt.Color('type:N'),\n",
    ").properties(height=200, width=400)\n",
    "\n",
    "right_hist = alt.Chart(issues_and_prs_df).mark_area(**area_args).encode(\n",
    "    alt.Y('time_to_close_days:Q',\n",
    "          bin=alt.Bin(maxbins=20, extent=yscale.domain),\n",
    "          stack=None,\n",
    "          axis=blank_axis,\n",
    "         ),\n",
    "    alt.X('count()', stack=None, axis=blank_axis),\n",
    "    alt.Color('type:N'),\n",
    ").properties(width=200, height=400)\n",
    "\n",
    "top_hist & (points | right_hist)"
   ]
  },
  {
   "cell_type": "markdown",
   "metadata": {},
   "source": [
    "The points on the x axis represent still open issues and PRs. We can create similar graphs for time_to_first_attention and other metrics but we might have to normalize them first!"
   ]
  }
 ],
 "metadata": {
  "kernelspec": {
   "display_name": "Python 3",
   "language": "python",
   "name": "python3"
  },
  "language_info": {
   "codemirror_mode": {
    "name": "ipython",
    "version": 3
   },
   "file_extension": ".py",
   "mimetype": "text/x-python",
   "name": "python",
   "nbconvert_exporter": "python",
   "pygments_lexer": "ipython3",
   "version": "3.6.3"
  }
 },
 "nbformat": 4,
 "nbformat_minor": 2
}
