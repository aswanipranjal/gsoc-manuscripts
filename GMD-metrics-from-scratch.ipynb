{
 "cells": [
  {
   "cell_type": "markdown",
   "metadata": {},
   "source": [
    "# Manuscripts: Re-visited"
   ]
  },
  {
   "cell_type": "markdown",
   "metadata": {},
   "source": [
    "Manuscripts, currently, mostly only provides us with aggregations of data. It isn't flexible enough to let us play with data For example: sort the data by different filters and values.\n",
    "\n",
    "Here, we will be experimenting what all can be done with the metrics. None of the previously written code will be used here so as to look at different ways and basically redesign the current code."
   ]
  },
  {
   "cell_type": "markdown",
   "metadata": {},
   "source": [
    "We'll still be looking at the [GMD metrics](https://github.com/chaoss/metrics/blob/master/2_Growth-Maturity-Decline.md)"
   ]
  },
  {
   "cell_type": "code",
   "execution_count": 1,
   "metadata": {},
   "outputs": [],
   "source": [
    "# import the necessary libraries\n",
    "import json\n",
    "import requests\n",
    "\n",
    "import pandas as pd\n",
    "\n",
    "from pprint import pprint\n",
    "\n",
    "from elasticsearch import Elasticsearch\n",
    "\n",
    "from elasticsearch_dsl import A, Q, Search\n",
    "from elasticsearch_dsl.query import Match, MultiMatch\n",
    "\n",
    "from datetime import date, timezone\n",
    "from dateutil import parser, relativedelta"
   ]
  },
  {
   "cell_type": "code",
   "execution_count": 3,
   "metadata": {},
   "outputs": [],
   "source": [
    "# declare the necessary variables\n",
    "es = Elasticsearch(\"http://localhost:9200/\")\n",
    "\n",
    "github_index = \"perceval_github\"\n",
    "git_index = \"perceval_git\"\n",
    "\n",
    "start_date = date(2017, 8, 1)\n",
    "start_date = start_date.isoformat() # \"2017-08-01\"\n",
    "end_date = date(2018, 5, 22)\n",
    "end_date = end_date.isoformat()\n",
    "\n",
    "max_size = 10000 # temporary hack to get all the values in the query"
   ]
  },
  {
   "cell_type": "markdown",
   "metadata": {},
   "source": [
    "Let's talk about the kind of filters we want while looking at the metrics. \n",
    "\n",
    "Can we look at the metrics by seggregating them according to:\n",
    "- Date?\n",
    " - days\n",
    " - weeks\n",
    " - months\n",
    " - years\n",
    "\n",
    "\n",
    "- organizations?\n",
    " - if people from multiple organizations are a part of the project, then we might need to see how they play along and which org is having the most influence?"
   ]
  },
  {
   "cell_type": "markdown",
   "metadata": {},
   "source": [
    "### Issue Resolution"
   ]
  },
  {
   "cell_type": "markdown",
   "metadata": {},
   "source": [
    "###### open issues"
   ]
  },
  {
   "cell_type": "code",
   "execution_count": 7,
   "metadata": {},
   "outputs": [
    {
     "data": {
      "text/plain": [
       "8"
      ]
     },
     "execution_count": 7,
     "metadata": {},
     "output_type": "execute_result"
    }
   ],
   "source": [
    "# We are looking at all the issues that are open and were created between 2017-08-01 and 2018-05-22\n",
    "\n",
    "s = Search(using=es, index=github_index)\n",
    "q1 = Q(\"match\", **{\"item_type\":\"issue\"})\n",
    "q2 = Q(\"match\", **{\"state\": \"open\"})\n",
    "q = q1 & q2\n",
    "s = s.query(q)\n",
    "agg = A(\"cardinality\", field=\"id_in_repo\")\n",
    "s.aggs.bucket(\"num_open_issues\", agg)\n",
    "s = s.filter(\"range\", **{\"created_at\":{\"gte\":start_date, \"lte\":end_date}})\n",
    "s = s.extra(size=0)\n",
    "\n",
    "response = s.execute()\n",
    "response.aggregations.num_open_issues.value"
   ]
  },
  {
   "cell_type": "markdown",
   "metadata": {},
   "source": [
    "###### closed issues\n"
   ]
  },
  {
   "cell_type": "code",
   "execution_count": 8,
   "metadata": {},
   "outputs": [
    {
     "data": {
      "text/plain": [
       "113"
      ]
     },
     "execution_count": 8,
     "metadata": {},
     "output_type": "execute_result"
    }
   ],
   "source": [
    "# we are looking at all the closed issues\n",
    "\n",
    "s = Search(using=es, index=github_index)\n",
    "q3 = Q(\"match\", **{\"item_type\":\"issue\"})\n",
    "q4 = Q(\"match\", **{\"state\": \"closed\"})\n",
    "q = q3 & q4\n",
    "s = s.query(q)\n",
    "agg = A(\"cardinality\", field=\"id_in_repo\")\n",
    "s.aggs.bucket(\"num_open_issues\", agg)\n",
    "s = s.extra(size=0)\n",
    "\n",
    "response = s.execute()\n",
    "response.aggregations.num_open_issues.value"
   ]
  },
  {
   "cell_type": "markdown",
   "metadata": {},
   "source": [
    "Now suppose, we want all the closed issues sorted out by the people who created it:"
   ]
  },
  {
   "cell_type": "code",
   "execution_count": 20,
   "metadata": {},
   "outputs": [],
   "source": [
    "s = Search(using=es, index=github_index)\n",
    "q5 = Q(\"match\", **{\"item_type\":\"issue\"})\n",
    "q6 = Q(\"match\", **{\"state\": \"closed\"})\n",
    "q = q5 & q6\n",
    "s = s.query(q)\n",
    "users_agg = A(\"terms\", field=\"author_name\", missing=\"Others\", size=max_size)"
   ]
  },
  {
   "cell_type": "markdown",
   "metadata": {},
   "source": [
    "To create buckets for aggregation, we can use the methods that were used in esquery.py file: using numbers in heirarchial order. The higher number bucket is the main bucket and the lower number bucket is the nested bucket used inside the main bucket."
   ]
  },
  {
   "cell_type": "code",
   "execution_count": 21,
   "metadata": {},
   "outputs": [
    {
     "data": {
      "text/plain": [
       "[{'2': {'value': 27}, 'doc_count': 27, 'key': 'Alvaro del Castillo'},\n",
       " {'2': {'value': 20}, 'doc_count': 20, 'key': 'Alberto Martín'},\n",
       " {'2': {'value': 10}, 'doc_count': 10, 'key': 'Others'},\n",
       " {'2': {'value': 9}, 'doc_count': 9, 'key': 'Jesus M. Gonzalez-Barahona'},\n",
       " {'2': {'value': 9}, 'doc_count': 9, 'key': 'Manrique Lopez'},\n",
       " {'2': {'value': 9}, 'doc_count': 9, 'key': 'Santiago Dueñas'},\n",
       " {'2': {'value': 3}, 'doc_count': 3, 'key': 'Daniel Izquierdo Cortazar'},\n",
       " {'2': {'value': 3}, 'doc_count': 3, 'key': 'David Pose Fernández'},\n",
       " {'2': {'value': 3}, 'doc_count': 3, 'key': 'Jose Miguel'},\n",
       " {'2': {'value': 3}, 'doc_count': 3, 'key': 'Quan Zhou'},\n",
       " {'2': {'value': 2}, 'doc_count': 2, 'key': 'Brylie Christopher Oxley'},\n",
       " {'2': {'value': 2}, 'doc_count': 2, 'key': 'Robin Muilwijk'},\n",
       " {'2': {'value': 2}, 'doc_count': 2, 'key': 'Saad Bin Shahid'},\n",
       " {'2': {'value': 2}, 'doc_count': 2, 'key': 'valerio'},\n",
       " {'2': {'value': 1}, 'doc_count': 1, 'key': 'Andre Klapper'},\n",
       " {'2': {'value': 1}, 'doc_count': 1, 'key': 'Bogdan Vasilescu'},\n",
       " {'2': {'value': 1}, 'doc_count': 1, 'key': 'Bowen Chen'},\n",
       " {'2': {'value': 1}, 'doc_count': 1, 'key': 'Cristian Baldi'},\n",
       " {'2': {'value': 1}, 'doc_count': 1, 'key': 'Heather Booker'},\n",
       " {'2': {'value': 1}, 'doc_count': 1, 'key': 'Lluis Josep Martinez'},\n",
       " {'2': {'value': 1}, 'doc_count': 1, 'key': 'Phillip Furtado'},\n",
       " {'2': {'value': 1}, 'doc_count': 1, 'key': 'Sachin S. Kamath'},\n",
       " {'2': {'value': 1}, 'doc_count': 1, 'key': 'Taewan Kim'}]"
      ]
     },
     "execution_count": 21,
     "metadata": {},
     "output_type": "execute_result"
    }
   ],
   "source": [
    "main_bucket = \"1\"\n",
    "secondary_bucket = \"2\"\n",
    "users_agg.metric(secondary_bucket, \"cardinality\", field=\"id_in_repo\")\n",
    "s.aggs.bucket(main_bucket, users_agg)\n",
    "s = s.extra(size=max_size)\n",
    "\n",
    "response = s.execute()\n",
    "response.aggregations.to_dict()[main_bucket]['buckets']"
   ]
  },
  {
   "cell_type": "markdown",
   "metadata": {},
   "source": [
    "###### open issue age"
   ]
  },
  {
   "cell_type": "code",
   "execution_count": 28,
   "metadata": {},
   "outputs": [],
   "source": [
    "\n",
    "\n",
    "s = Search(using=es, index=github_index)\n",
    "q0 = Q(\"match_all\")\n",
    "q1 = Q(\"match\", **{\"item_type\":\"issue\"})\n",
    "q2 = Q(\"match\", **{\"state\": \"open\"})\n",
    "q = q0 & q1 & q2\n",
    "s = s.query(q)\n",
    "agg = A(\"cardinality\", field=\"id_in_repo\")\n",
    "s.aggs.bucket(\"num_open_issues\", agg)\n",
    "s = s.extra(_source=['time_open_days', 'id_in_repo'])\n",
    "s = s.extra(size=max_size)\n",
    "response = s.execute()"
   ]
  },
  {
   "cell_type": "code",
   "execution_count": 29,
   "metadata": {},
   "outputs": [],
   "source": [
    "open_issue_age = pd.DataFrame([hit['_source'] for hit in response.hits.hits])"
   ]
  },
  {
   "cell_type": "code",
   "execution_count": 30,
   "metadata": {},
   "outputs": [
    {
     "data": {
      "text/html": [
       "<div>\n",
       "<style scoped>\n",
       "    .dataframe tbody tr th:only-of-type {\n",
       "        vertical-align: middle;\n",
       "    }\n",
       "\n",
       "    .dataframe tbody tr th {\n",
       "        vertical-align: top;\n",
       "    }\n",
       "\n",
       "    .dataframe thead th {\n",
       "        text-align: right;\n",
       "    }\n",
       "</style>\n",
       "<table border=\"1\" class=\"dataframe\">\n",
       "  <thead>\n",
       "    <tr style=\"text-align: right;\">\n",
       "      <th></th>\n",
       "      <th>id_in_repo</th>\n",
       "      <th>time_open_days</th>\n",
       "    </tr>\n",
       "  </thead>\n",
       "  <tbody>\n",
       "    <tr>\n",
       "      <th>0</th>\n",
       "      <td>58</td>\n",
       "      <td>617.82</td>\n",
       "    </tr>\n",
       "    <tr>\n",
       "      <th>1</th>\n",
       "      <td>104</td>\n",
       "      <td>507.92</td>\n",
       "    </tr>\n",
       "    <tr>\n",
       "      <th>2</th>\n",
       "      <td>319</td>\n",
       "      <td>99.84</td>\n",
       "    </tr>\n",
       "    <tr>\n",
       "      <th>3</th>\n",
       "      <td>91</td>\n",
       "      <td>557.90</td>\n",
       "    </tr>\n",
       "    <tr>\n",
       "      <th>4</th>\n",
       "      <td>139</td>\n",
       "      <td>374.73</td>\n",
       "    </tr>\n",
       "    <tr>\n",
       "      <th>5</th>\n",
       "      <td>217</td>\n",
       "      <td>173.08</td>\n",
       "    </tr>\n",
       "    <tr>\n",
       "      <th>6</th>\n",
       "      <td>331</td>\n",
       "      <td>88.27</td>\n",
       "    </tr>\n",
       "    <tr>\n",
       "      <th>7</th>\n",
       "      <td>19</td>\n",
       "      <td>795.16</td>\n",
       "    </tr>\n",
       "    <tr>\n",
       "      <th>8</th>\n",
       "      <td>28</td>\n",
       "      <td>788.04</td>\n",
       "    </tr>\n",
       "    <tr>\n",
       "      <th>9</th>\n",
       "      <td>74</td>\n",
       "      <td>586.77</td>\n",
       "    </tr>\n",
       "    <tr>\n",
       "      <th>10</th>\n",
       "      <td>88</td>\n",
       "      <td>569.10</td>\n",
       "    </tr>\n",
       "    <tr>\n",
       "      <th>11</th>\n",
       "      <td>324</td>\n",
       "      <td>95.15</td>\n",
       "    </tr>\n",
       "    <tr>\n",
       "      <th>12</th>\n",
       "      <td>42</td>\n",
       "      <td>710.84</td>\n",
       "    </tr>\n",
       "    <tr>\n",
       "      <th>13</th>\n",
       "      <td>16</td>\n",
       "      <td>814.67</td>\n",
       "    </tr>\n",
       "    <tr>\n",
       "      <th>14</th>\n",
       "      <td>229</td>\n",
       "      <td>170.79</td>\n",
       "    </tr>\n",
       "    <tr>\n",
       "      <th>15</th>\n",
       "      <td>59</td>\n",
       "      <td>612.92</td>\n",
       "    </tr>\n",
       "    <tr>\n",
       "      <th>16</th>\n",
       "      <td>367</td>\n",
       "      <td>50.21</td>\n",
       "    </tr>\n",
       "    <tr>\n",
       "      <th>17</th>\n",
       "      <td>18</td>\n",
       "      <td>795.59</td>\n",
       "    </tr>\n",
       "    <tr>\n",
       "      <th>18</th>\n",
       "      <td>20</td>\n",
       "      <td>793.81</td>\n",
       "    </tr>\n",
       "    <tr>\n",
       "      <th>19</th>\n",
       "      <td>140</td>\n",
       "      <td>373.01</td>\n",
       "    </tr>\n",
       "    <tr>\n",
       "      <th>20</th>\n",
       "      <td>234</td>\n",
       "      <td>170.13</td>\n",
       "    </tr>\n",
       "    <tr>\n",
       "      <th>21</th>\n",
       "      <td>119</td>\n",
       "      <td>451.62</td>\n",
       "    </tr>\n",
       "    <tr>\n",
       "      <th>22</th>\n",
       "      <td>384</td>\n",
       "      <td>9.64</td>\n",
       "    </tr>\n",
       "  </tbody>\n",
       "</table>\n",
       "</div>"
      ],
      "text/plain": [
       "   id_in_repo  time_open_days\n",
       "0          58          617.82\n",
       "1         104          507.92\n",
       "2         319           99.84\n",
       "3          91          557.90\n",
       "4         139          374.73\n",
       "5         217          173.08\n",
       "6         331           88.27\n",
       "7          19          795.16\n",
       "8          28          788.04\n",
       "9          74          586.77\n",
       "10         88          569.10\n",
       "11        324           95.15\n",
       "12         42          710.84\n",
       "13         16          814.67\n",
       "14        229          170.79\n",
       "15         59          612.92\n",
       "16        367           50.21\n",
       "17         18          795.59\n",
       "18         20          793.81\n",
       "19        140          373.01\n",
       "20        234          170.13\n",
       "21        119          451.62\n",
       "22        384            9.64"
      ]
     },
     "execution_count": 30,
     "metadata": {},
     "output_type": "execute_result"
    }
   ],
   "source": [
    "open_issue_age"
   ]
  },
  {
   "cell_type": "markdown",
   "metadata": {},
   "source": [
    "### Code Development"
   ]
  },
  {
   "cell_type": "code",
   "execution_count": 38,
   "metadata": {},
   "outputs": [],
   "source": [
    "# Total commits\n",
    "\n",
    "s = Search(using=es, index=git_index)\n",
    "#q = Q(\"match\", **{\"files\": 0})\n",
    "#s = s.query(~q)\n",
    "a = A(\"cardinality\", field=\"hash\", precision_threshold=2000)\n",
    "s.aggs.bucket(\"total_commits\", a)\n",
    "s = s.extra(_source=[\"hash\", \"commit_date\"])\n",
    "s = s.extra(sort={\"commit_date\":\"asc\"})\n",
    "response = s.execute()"
   ]
  },
  {
   "cell_type": "code",
   "execution_count": 39,
   "metadata": {},
   "outputs": [
    {
     "data": {
      "text/plain": [
       "1186"
      ]
     },
     "execution_count": 39,
     "metadata": {},
     "output_type": "execute_result"
    }
   ],
   "source": [
    "response.aggregations.total_commits.value"
   ]
  },
  {
   "cell_type": "markdown",
   "metadata": {},
   "source": [
    "When you go to the [perceval github repo](https://github.com/chaoss/grimoirelab-perceval), you'll see that actually 1182 commit are present. That maybe because of some empty commit messages. "
   ]
  },
  {
   "cell_type": "code",
   "execution_count": 35,
   "metadata": {},
   "outputs": [],
   "source": [
    "# commits by months\n",
    "s = Search(using=es, index=git_index)\n",
    "a = A(\"date_histogram\", field=\"commit_date\", interval=\"month\")\n",
    "s.aggs.bucket(\"commits_by_months\", a)\n",
    "response = s.execute()"
   ]
  },
  {
   "cell_type": "code",
   "execution_count": 37,
   "metadata": {},
   "outputs": [
    {
     "data": {
      "text/plain": [
       "[{'key_as_string': '2015-08-01T00:00:00.000Z', 'key': 1438387200000, 'doc_count': 16}, {'key_as_string': '2015-09-01T00:00:00.000Z', 'key': 1441065600000, 'doc_count': 0}, {'key_as_string': '2015-10-01T00:00:00.000Z', 'key': 1443657600000, 'doc_count': 0}, {'key_as_string': '2015-11-01T00:00:00.000Z', 'key': 1446336000000, 'doc_count': 46}, {'key_as_string': '2015-12-01T00:00:00.000Z', 'key': 1448928000000, 'doc_count': 34}, {'key_as_string': '2016-01-01T00:00:00.000Z', 'key': 1451606400000, 'doc_count': 60}, {'key_as_string': '2016-02-01T00:00:00.000Z', 'key': 1454284800000, 'doc_count': 152}, {'key_as_string': '2016-03-01T00:00:00.000Z', 'key': 1456790400000, 'doc_count': 98}, {'key_as_string': '2016-04-01T00:00:00.000Z', 'key': 1459468800000, 'doc_count': 44}, {'key_as_string': '2016-05-01T00:00:00.000Z', 'key': 1462060800000, 'doc_count': 38}, {'key_as_string': '2016-06-01T00:00:00.000Z', 'key': 1464739200000, 'doc_count': 66}, {'key_as_string': '2016-07-01T00:00:00.000Z', 'key': 1467331200000, 'doc_count': 88}, {'key_as_string': '2016-08-01T00:00:00.000Z', 'key': 1470009600000, 'doc_count': 18}, {'key_as_string': '2016-09-01T00:00:00.000Z', 'key': 1472688000000, 'doc_count': 52}, {'key_as_string': '2016-10-01T00:00:00.000Z', 'key': 1475280000000, 'doc_count': 208}, {'key_as_string': '2016-11-01T00:00:00.000Z', 'key': 1477958400000, 'doc_count': 86}, {'key_as_string': '2016-12-01T00:00:00.000Z', 'key': 1480550400000, 'doc_count': 22}, {'key_as_string': '2017-01-01T00:00:00.000Z', 'key': 1483228800000, 'doc_count': 132}, {'key_as_string': '2017-02-01T00:00:00.000Z', 'key': 1485907200000, 'doc_count': 74}, {'key_as_string': '2017-03-01T00:00:00.000Z', 'key': 1488326400000, 'doc_count': 74}, {'key_as_string': '2017-04-01T00:00:00.000Z', 'key': 1491004800000, 'doc_count': 12}, {'key_as_string': '2017-05-01T00:00:00.000Z', 'key': 1493596800000, 'doc_count': 32}, {'key_as_string': '2017-06-01T00:00:00.000Z', 'key': 1496275200000, 'doc_count': 10}, {'key_as_string': '2017-07-01T00:00:00.000Z', 'key': 1498867200000, 'doc_count': 4}, {'key_as_string': '2017-08-01T00:00:00.000Z', 'key': 1501545600000, 'doc_count': 8}, {'key_as_string': '2017-09-01T00:00:00.000Z', 'key': 1504224000000, 'doc_count': 53}, {'key_as_string': '2017-10-01T00:00:00.000Z', 'key': 1506816000000, 'doc_count': 126}, {'key_as_string': '2017-11-01T00:00:00.000Z', 'key': 1509494400000, 'doc_count': 74}, {'key_as_string': '2017-12-01T00:00:00.000Z', 'key': 1512086400000, 'doc_count': 92}, {'key_as_string': '2018-01-01T00:00:00.000Z', 'key': 1514764800000, 'doc_count': 180}, {'key_as_string': '2018-02-01T00:00:00.000Z', 'key': 1517443200000, 'doc_count': 128}, {'key_as_string': '2018-03-01T00:00:00.000Z', 'key': 1519862400000, 'doc_count': 254}, {'key_as_string': '2018-04-01T00:00:00.000Z', 'key': 1522540800000, 'doc_count': 66}, {'key_as_string': '2018-05-01T00:00:00.000Z', 'key': 1525132800000, 'doc_count': 11}]"
      ]
     },
     "execution_count": 37,
     "metadata": {},
     "output_type": "execute_result"
    }
   ],
   "source": [
    "response.aggregations.commits_by_months.buckets"
   ]
  },
  {
   "cell_type": "code",
   "execution_count": 40,
   "metadata": {},
   "outputs": [
    {
     "name": "stdout",
     "output_type": "stream",
     "text": [
      "Total lines changed:  354358.0\n",
      "Total lines added:  265068.0\n",
      "Total lines removed:  89290.0\n"
     ]
    }
   ],
   "source": [
    "# Lines of code changed\n",
    "\n",
    "s = Search(using=es, index=git_index)\n",
    "#q = Q(\"match\", **{\"files\": 0})\n",
    "#s = s.query(~q)\n",
    "a1 = A(\"sum\", field=\"lines_changed\")\n",
    "a2 = A(\"sum\", field=\"lines_added\")\n",
    "a3 = A(\"sum\", field=\"lines_removed\")\n",
    "s.aggs.bucket(\"total_lines_changed\", a1)\n",
    "s.aggs.bucket(\"total_lines_added\", a2)\n",
    "s.aggs.bucket(\"total_lines_removed\", a3)\n",
    "s = s.extra(size=0)\n",
    "#s = s.extra(_source=[\"hash\", \"commit_date\"])\n",
    "#s = s.extra(sort={\"commit_date\":\"asc\"})\n",
    "response = s.execute()\n",
    "\n",
    "print(\"Total lines changed: \", response.aggregations.total_lines_changed.value)\n",
    "print(\"Total lines added: \", response.aggregations.total_lines_added.value)\n",
    "print(\"Total lines removed: \", response.aggregations.total_lines_removed.value)"
   ]
  },
  {
   "cell_type": "markdown",
   "metadata": {},
   "source": [
    "### Community Growth"
   ]
  },
  {
   "cell_type": "code",
   "execution_count": 46,
   "metadata": {},
   "outputs": [],
   "source": [
    "# Number of contributors\n",
    "\n",
    "s = Search(using=es, index=git_index)\n",
    "a = A(\"terms\", field=\"author_name\", size=max_size)\n",
    "a.metric(\"lines_changed\", \"sum\", field=\"lines_changed\")\n",
    "a.metric(\"lines_added\", \"sum\", field=\"lines_added\")\n",
    "a.metric(\"average_files_changed\", \"avg\", field=\"files\")\n",
    "s.aggs.bucket(\"contributors\", a)\n",
    "response = s.execute()"
   ]
  },
  {
   "cell_type": "code",
   "execution_count": 47,
   "metadata": {},
   "outputs": [
    {
     "data": {
      "text/plain": [
       "[{'key': 'Santiago Dueñas', 'doc_count': 1494, 'average_files_changed': {'value': 2.139223560910308}, 'lines_added': {'value': 91122.0}, 'lines_changed': {'value': 123756.0}}, {'key': 'Valerio Cosentino', 'doc_count': 567, 'average_files_changed': {'value': 2.2239858906525574}, 'lines_added': {'value': 86338.0}, 'lines_changed': {'value': 138388.0}}, {'key': 'Alberto Martín', 'doc_count': 102, 'average_files_changed': {'value': 1.9215686274509804}, 'lines_added': {'value': 43562.0}, 'lines_changed': {'value': 45724.0}}, {'key': 'Alvaro del Castillo', 'doc_count': 102, 'average_files_changed': {'value': 2.588235294117647}, 'lines_added': {'value': 30664.0}, 'lines_changed': {'value': 31438.0}}, {'key': 'Jesus M. Gonzalez-Barahona', 'doc_count': 37, 'average_files_changed': {'value': 2.054054054054054}, 'lines_added': {'value': 2058.0}, 'lines_changed': {'value': 2176.0}}, {'key': 'valerio cosentino', 'doc_count': 12, 'average_files_changed': {'value': 3.6666666666666665}, 'lines_added': {'value': 2548.0}, 'lines_changed': {'value': 3406.0}}, {'key': 'quan', 'doc_count': 10, 'average_files_changed': {'value': 5.6}, 'lines_added': {'value': 7186.0}, 'lines_changed': {'value': 7308.0}}, {'key': 'Miguel Ángel Fernández', 'doc_count': 6, 'average_files_changed': {'value': 11.333333333333334}, 'lines_added': {'value': 92.0}, 'lines_changed': {'value': 380.0}}, {'key': 'David Pose Fernández', 'doc_count': 4, 'average_files_changed': {'value': 2.0}, 'lines_added': {'value': 8.0}, 'lines_changed': {'value': 20.0}}, {'key': 'camillem', 'doc_count': 4, 'average_files_changed': {'value': 1.0}, 'lines_added': {'value': 4.0}, 'lines_changed': {'value': 8.0}}, {'key': 'valerio', 'doc_count': 4, 'average_files_changed': {'value': 7.0}, 'lines_added': {'value': 246.0}, 'lines_changed': {'value': 324.0}}, {'key': 'David Esler', 'doc_count': 2, 'average_files_changed': {'value': 1.0}, 'lines_added': {'value': 4.0}, 'lines_changed': {'value': 6.0}}, {'key': 'Israel Herraiz', 'doc_count': 2, 'average_files_changed': {'value': 3.0}, 'lines_added': {'value': 122.0}, 'lines_changed': {'value': 136.0}}, {'key': 'J. Manrique Lopez de la Fuente', 'doc_count': 2, 'average_files_changed': {'value': 4.0}, 'lines_added': {'value': 662.0}, 'lines_changed': {'value': 662.0}}, {'key': 'Luis Cañas Díaz', 'doc_count': 2, 'average_files_changed': {'value': 2.0}, 'lines_added': {'value': 4.0}, 'lines_changed': {'value': 8.0}}, {'key': 'Prabhat', 'doc_count': 2, 'average_files_changed': {'value': 2.0}, 'lines_added': {'value': 28.0}, 'lines_changed': {'value': 56.0}}, {'key': 'Stephan Barth', 'doc_count': 2, 'average_files_changed': {'value': 54.0}, 'lines_added': {'value': 108.0}, 'lines_changed': {'value': 216.0}}, {'key': 'anveshc05', 'doc_count': 2, 'average_files_changed': {'value': 3.0}, 'lines_added': {'value': 306.0}, 'lines_changed': {'value': 338.0}}, {'key': 'david', 'doc_count': 2, 'average_files_changed': {'value': 1.0}, 'lines_added': {'value': 6.0}, 'lines_changed': {'value': 8.0}}]"
      ]
     },
     "execution_count": 47,
     "metadata": {},
     "output_type": "execute_result"
    }
   ],
   "source": [
    "response.aggregations.contributors.buckets"
   ]
  },
  {
   "cell_type": "markdown",
   "metadata": {},
   "source": [
    "Do we see a general pattern in calculating all the metrics above?\n",
    "\n",
    "- If we want to seggregate the values by date: we use a date histogram.\n",
    "- If we want to seggregate the values by members or organizations: we can use a `terms` aggregation with one or multiple nested aggregations which give a numeric value.\n",
    "\n",
    "We can convert the output values into a dataframe for easy processing and apply filters for date and other conditions as we like."
   ]
  }
 ],
 "metadata": {
  "kernelspec": {
   "display_name": "Python 3",
   "language": "python",
   "name": "python3"
  },
  "language_info": {
   "codemirror_mode": {
    "name": "ipython",
    "version": 3
   },
   "file_extension": ".py",
   "mimetype": "text/x-python",
   "name": "python",
   "nbconvert_exporter": "python",
   "pygments_lexer": "ipython3",
   "version": "3.6.3"
  }
 },
 "nbformat": 4,
 "nbformat_minor": 2
}
