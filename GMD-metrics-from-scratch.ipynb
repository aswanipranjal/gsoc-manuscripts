{
 "cells": [
  {
   "cell_type": "markdown",
   "metadata": {},
   "source": [
    "# Manuscripts: Re-visited"
   ]
  },
  {
   "cell_type": "markdown",
   "metadata": {},
   "source": [
    "Manuscripts, currently, mostly only provides us with aggregations of data. It isn't flexible enough to let us play with data For example: sort the data by different filters and values.\n",
    "\n",
    "Here, we will be experimenting what all can be done with the metrics. None of the previously written code will be used here so as to look at different ways and basically redesign the current code."
   ]
  },
  {
   "cell_type": "markdown",
   "metadata": {},
   "source": [
    "We'll still be looking at the [GMD metrics](https://github.com/chaoss/metrics/blob/master/2_Growth-Maturity-Decline.md)"
   ]
  },
  {
   "cell_type": "code",
   "execution_count": 30,
   "metadata": {},
   "outputs": [],
   "source": [
    "import pandas as pd\n",
    "\n",
    "from pprint import pprint\n",
    "\n",
    "from elasticsearch import Elasticsearch\n",
    "\n",
    "from elasticsearch_dsl import A, Q, Search\n",
    "from elasticsearch_dsl.query import Match, MultiMatch\n",
    "\n",
    "from datetime import date, timezone\n",
    "from dateutil import parser, relativedelta"
   ]
  },
  {
   "cell_type": "code",
   "execution_count": 2,
   "metadata": {},
   "outputs": [],
   "source": [
    "es = Elasticsearch(\"http://localhost:9200/\")\n",
    "\n",
    "github_index = \"perceval_github\"\n",
    "git_index = \"perceval_git\""
   ]
  },
  {
   "cell_type": "code",
   "execution_count": null,
   "metadata": {},
   "outputs": [],
   "source": [
    "class (object):\n",
    "    def __init__(self, client, es_index):\n",
    "        self.s = Search(using=client, index=es_index)\n",
    "        self.filters = []\n",
    "        self.queries = []\n",
    "        self.aggregations = []\n",
    "    \n",
    "    def get_filters(self):\n",
    "        if \"filter\" in self.s.to_dict().keys():\n",
    "            return self.s.to_dict()['filter']\n",
    "        else:\n",
    "            return None\n",
    "        \n",
    "    def get_queries(self):\n",
    "        if \"query\" in self.s.to_dict().keys():\n",
    "            return self.s.to_dict()['query']\n",
    "        else:\n",
    "            return None\n",
    "    \n",
    "    def get_aggs(self):\n",
    "        if \"aggs\" in self.s.to_dict().keys():\n",
    "            return self.s.to_dict()['aggs']\n",
    "        else:\n",
    "            return None\n",
    "    \n",
    "    def"
   ]
  },
  {
   "cell_type": "markdown",
   "metadata": {},
   "source": [
    "Let's talk about the kind of filters we want while looking at the metrics. \n",
    "\n",
    "Can we look at the metrics by seggregating them according to:\n",
    "- Date?\n",
    " - days\n",
    " - weeks\n",
    " - months\n",
    " - years\n",
    "\n",
    "\n",
    "- organizations?\n",
    " - if people from multiple organizations are a part of the project, then we might need to see how they play along and which org is having the most influence?"
   ]
  },
  {
   "cell_type": "markdown",
   "metadata": {},
   "source": [
    "### Issue Resolution"
   ]
  },
  {
   "cell_type": "code",
   "execution_count": 10,
   "metadata": {},
   "outputs": [
    {
     "data": {
      "text/plain": [
       "23"
      ]
     },
     "execution_count": 10,
     "metadata": {},
     "output_type": "execute_result"
    }
   ],
   "source": [
    "# open issues:\n",
    "\n",
    "s = Search(using=es, index=github_index)\n",
    "q1 = Q(\"match\", **{\"item_type\":\"issue\"})\n",
    "q2 = Q(\"match\", **{\"state\": \"open\"})\n",
    "q = q1 & q2\n",
    "s = s.query(q)\n",
    "agg = A(\"cardinality\", field=\"id_in_repo\")\n",
    "s.aggs.bucket(\"num_open_issues\", agg)\n",
    "s = s.extra(size=0)\n",
    "\n",
    "response = s.execute()\n",
    "response.aggregations.num_open_issues.value"
   ]
  },
  {
   "cell_type": "code",
   "execution_count": 16,
   "metadata": {},
   "outputs": [
    {
     "data": {
      "text/plain": [
       "{'aggs': {'num_open_issues': {'cardinality': {'field': 'id_in_repo'}}},\n",
       " 'query': {'bool': {'must': [{'match': {'item_type': 'issue'}},\n",
       "    {'match': {'state': 'open'}}]}},\n",
       " 'size': 0}"
      ]
     },
     "execution_count": 16,
     "metadata": {},
     "output_type": "execute_result"
    }
   ],
   "source": [
    "s.to_dict()"
   ]
  },
  {
   "cell_type": "code",
   "execution_count": 5,
   "metadata": {},
   "outputs": [
    {
     "data": {
      "text/plain": [
       "113"
      ]
     },
     "execution_count": 5,
     "metadata": {},
     "output_type": "execute_result"
    }
   ],
   "source": [
    "# closed issues\n",
    "\n",
    "s = Search(using=es, index=github_index)\n",
    "q3 = Q(\"match\", **{\"item_type\":\"issue\"})\n",
    "q4 = Q(\"match\", **{\"state\": \"closed\"})\n",
    "q = q3 & q4\n",
    "s = s.query(q)\n",
    "agg = A(\"cardinality\", field=\"id_in_repo\")\n",
    "s.aggs.bucket(\"num_open_issues\", agg)\n",
    "s = s.extra(size=0)\n",
    "\n",
    "response = s.execute()\n",
    "response.aggregations.num_open_issues.value"
   ]
  },
  {
   "cell_type": "code",
   "execution_count": 29,
   "metadata": {},
   "outputs": [
    {
     "data": {
      "text/plain": [
       "153.22222222222223"
      ]
     },
     "execution_count": 29,
     "metadata": {},
     "output_type": "execute_result"
    }
   ],
   "source": [
    "sum([34, 2, 44, 32, 124, 678, 432, 32, 1])/9"
   ]
  },
  {
   "cell_type": "code",
   "execution_count": 26,
   "metadata": {},
   "outputs": [],
   "source": [
    "# open issue age\n",
    "\n",
    "s = Search(using=es, index=github_index)\n",
    "q0 = Q(\"match_all\")\n",
    "q1 = Q(\"match\", **{\"item_type\":\"issue\"})\n",
    "q2 = Q(\"match\", **{\"state\": \"open\"})\n",
    "q = q0 & q1 & q2\n",
    "s = s.query(q)\n",
    "agg = A(\"cardinality\", field=\"id_in_repo\")\n",
    "s.aggs.bucket(\"num_open_issues\", agg)\n",
    "s = s.extra(_source=['time_open_days', 'id_in_repo'])\n",
    "\n",
    "response = s.execute()"
   ]
  },
  {
   "cell_type": "code",
   "execution_count": 27,
   "metadata": {},
   "outputs": [
    {
     "data": {
      "text/plain": [
       "{'_source': ['time_open_days', 'id_in_repo'],\n",
       " 'aggs': {'num_open_issues': {'cardinality': {'field': 'id_in_repo'}}},\n",
       " 'query': {'bool': {'must': [{'match': {'item_type': 'issue'}},\n",
       "    {'match': {'state': 'open'}}]}}}"
      ]
     },
     "execution_count": 27,
     "metadata": {},
     "output_type": "execute_result"
    }
   ],
   "source": [
    "s.to_dict()"
   ]
  },
  {
   "cell_type": "code",
   "execution_count": 23,
   "metadata": {},
   "outputs": [],
   "source": [
    "open_issue_age = pd.DataFrame([hit['_source'] for hit in response.hits.hits])"
   ]
  },
  {
   "cell_type": "code",
   "execution_count": 24,
   "metadata": {},
   "outputs": [
    {
     "data": {
      "text/html": [
       "<div>\n",
       "<style scoped>\n",
       "    .dataframe tbody tr th:only-of-type {\n",
       "        vertical-align: middle;\n",
       "    }\n",
       "\n",
       "    .dataframe tbody tr th {\n",
       "        vertical-align: top;\n",
       "    }\n",
       "\n",
       "    .dataframe thead th {\n",
       "        text-align: right;\n",
       "    }\n",
       "</style>\n",
       "<table border=\"1\" class=\"dataframe\">\n",
       "  <thead>\n",
       "    <tr style=\"text-align: right;\">\n",
       "      <th></th>\n",
       "      <th>id_in_repo</th>\n",
       "      <th>time_open_days</th>\n",
       "    </tr>\n",
       "  </thead>\n",
       "  <tbody>\n",
       "    <tr>\n",
       "      <th>0</th>\n",
       "      <td>58</td>\n",
       "      <td>617.82</td>\n",
       "    </tr>\n",
       "    <tr>\n",
       "      <th>1</th>\n",
       "      <td>104</td>\n",
       "      <td>507.92</td>\n",
       "    </tr>\n",
       "    <tr>\n",
       "      <th>2</th>\n",
       "      <td>319</td>\n",
       "      <td>99.84</td>\n",
       "    </tr>\n",
       "    <tr>\n",
       "      <th>3</th>\n",
       "      <td>91</td>\n",
       "      <td>557.90</td>\n",
       "    </tr>\n",
       "    <tr>\n",
       "      <th>4</th>\n",
       "      <td>139</td>\n",
       "      <td>374.73</td>\n",
       "    </tr>\n",
       "    <tr>\n",
       "      <th>5</th>\n",
       "      <td>217</td>\n",
       "      <td>173.08</td>\n",
       "    </tr>\n",
       "    <tr>\n",
       "      <th>6</th>\n",
       "      <td>331</td>\n",
       "      <td>88.27</td>\n",
       "    </tr>\n",
       "    <tr>\n",
       "      <th>7</th>\n",
       "      <td>19</td>\n",
       "      <td>795.16</td>\n",
       "    </tr>\n",
       "    <tr>\n",
       "      <th>8</th>\n",
       "      <td>28</td>\n",
       "      <td>788.04</td>\n",
       "    </tr>\n",
       "    <tr>\n",
       "      <th>9</th>\n",
       "      <td>74</td>\n",
       "      <td>586.77</td>\n",
       "    </tr>\n",
       "  </tbody>\n",
       "</table>\n",
       "</div>"
      ],
      "text/plain": [
       "  id_in_repo  time_open_days\n",
       "0         58          617.82\n",
       "1        104          507.92\n",
       "2        319           99.84\n",
       "3         91          557.90\n",
       "4        139          374.73\n",
       "5        217          173.08\n",
       "6        331           88.27\n",
       "7         19          795.16\n",
       "8         28          788.04\n",
       "9         74          586.77"
      ]
     },
     "execution_count": 24,
     "metadata": {},
     "output_type": "execute_result"
    }
   ],
   "source": [
    "open_issue_age"
   ]
  },
  {
   "cell_type": "markdown",
   "metadata": {},
   "source": [
    "### Code Development"
   ]
  },
  {
   "cell_type": "code",
   "execution_count": 28,
   "metadata": {},
   "outputs": [],
   "source": [
    "# Total commits\n",
    "\n",
    "s = Search(using=es, index=git_index)\n",
    "#q = Q(\"match\", **{\"files\": 0})\n",
    "#s = s.query(~q)\n",
    "a = A(\"cardinality\", field=\"hash\", precision_threshold=2000)\n",
    "s.aggs.bucket(\"total_commits\", a)\n",
    "#s = s.extra(size=0)\n",
    "s = s.extra(_source=[\"hash\", \"commit_date\"])\n",
    "s = s.extra(sort={\"commit_date\":\"asc\"})\n",
    "response = s.execute()"
   ]
  },
  {
   "cell_type": "code",
   "execution_count": 29,
   "metadata": {},
   "outputs": [
    {
     "data": {
      "text/plain": [
       "1186"
      ]
     },
     "execution_count": 29,
     "metadata": {},
     "output_type": "execute_result"
    }
   ],
   "source": [
    "response.aggregations.total_commits.value"
   ]
  },
  {
   "cell_type": "markdown",
   "metadata": {},
   "source": [
    "When you go to the [perceval github repo](https://github.com/chaoss/grimoirelab-perceval), you'll see that actually 1182 commit are present. That maybe because of some empty commit messages. "
   ]
  },
  {
   "cell_type": "code",
   "execution_count": 8,
   "metadata": {},
   "outputs": [],
   "source": [
    "# commits by months\n",
    "s = Search(using=es, index=git_index)\n",
    "a = A(\"date_histogram\", field=\"commit_date\", interval=\"month\")\n",
    "s.aggs.bucket(\"commits_by_weeks\", a)\n",
    "response = s.execute()"
   ]
  },
  {
   "cell_type": "code",
   "execution_count": 9,
   "metadata": {},
   "outputs": [
    {
     "data": {
      "text/plain": [
       "[{'key_as_string': '2015-08-01T00:00:00.000Z', 'key': 1438387200000, 'doc_count': 16}, {'key_as_string': '2015-09-01T00:00:00.000Z', 'key': 1441065600000, 'doc_count': 0}, {'key_as_string': '2015-10-01T00:00:00.000Z', 'key': 1443657600000, 'doc_count': 0}, {'key_as_string': '2015-11-01T00:00:00.000Z', 'key': 1446336000000, 'doc_count': 46}, {'key_as_string': '2015-12-01T00:00:00.000Z', 'key': 1448928000000, 'doc_count': 34}, {'key_as_string': '2016-01-01T00:00:00.000Z', 'key': 1451606400000, 'doc_count': 60}, {'key_as_string': '2016-02-01T00:00:00.000Z', 'key': 1454284800000, 'doc_count': 152}, {'key_as_string': '2016-03-01T00:00:00.000Z', 'key': 1456790400000, 'doc_count': 98}, {'key_as_string': '2016-04-01T00:00:00.000Z', 'key': 1459468800000, 'doc_count': 44}, {'key_as_string': '2016-05-01T00:00:00.000Z', 'key': 1462060800000, 'doc_count': 38}, {'key_as_string': '2016-06-01T00:00:00.000Z', 'key': 1464739200000, 'doc_count': 66}, {'key_as_string': '2016-07-01T00:00:00.000Z', 'key': 1467331200000, 'doc_count': 88}, {'key_as_string': '2016-08-01T00:00:00.000Z', 'key': 1470009600000, 'doc_count': 18}, {'key_as_string': '2016-09-01T00:00:00.000Z', 'key': 1472688000000, 'doc_count': 52}, {'key_as_string': '2016-10-01T00:00:00.000Z', 'key': 1475280000000, 'doc_count': 208}, {'key_as_string': '2016-11-01T00:00:00.000Z', 'key': 1477958400000, 'doc_count': 86}, {'key_as_string': '2016-12-01T00:00:00.000Z', 'key': 1480550400000, 'doc_count': 22}, {'key_as_string': '2017-01-01T00:00:00.000Z', 'key': 1483228800000, 'doc_count': 132}, {'key_as_string': '2017-02-01T00:00:00.000Z', 'key': 1485907200000, 'doc_count': 74}, {'key_as_string': '2017-03-01T00:00:00.000Z', 'key': 1488326400000, 'doc_count': 74}, {'key_as_string': '2017-04-01T00:00:00.000Z', 'key': 1491004800000, 'doc_count': 12}, {'key_as_string': '2017-05-01T00:00:00.000Z', 'key': 1493596800000, 'doc_count': 32}, {'key_as_string': '2017-06-01T00:00:00.000Z', 'key': 1496275200000, 'doc_count': 10}, {'key_as_string': '2017-07-01T00:00:00.000Z', 'key': 1498867200000, 'doc_count': 4}, {'key_as_string': '2017-08-01T00:00:00.000Z', 'key': 1501545600000, 'doc_count': 8}, {'key_as_string': '2017-09-01T00:00:00.000Z', 'key': 1504224000000, 'doc_count': 53}, {'key_as_string': '2017-10-01T00:00:00.000Z', 'key': 1506816000000, 'doc_count': 126}, {'key_as_string': '2017-11-01T00:00:00.000Z', 'key': 1509494400000, 'doc_count': 74}, {'key_as_string': '2017-12-01T00:00:00.000Z', 'key': 1512086400000, 'doc_count': 92}, {'key_as_string': '2018-01-01T00:00:00.000Z', 'key': 1514764800000, 'doc_count': 180}, {'key_as_string': '2018-02-01T00:00:00.000Z', 'key': 1517443200000, 'doc_count': 128}, {'key_as_string': '2018-03-01T00:00:00.000Z', 'key': 1519862400000, 'doc_count': 254}, {'key_as_string': '2018-04-01T00:00:00.000Z', 'key': 1522540800000, 'doc_count': 66}, {'key_as_string': '2018-05-01T00:00:00.000Z', 'key': 1525132800000, 'doc_count': 11}]"
      ]
     },
     "execution_count": 9,
     "metadata": {},
     "output_type": "execute_result"
    }
   ],
   "source": [
    "response.aggregations.commits_by_weeks.buckets"
   ]
  },
  {
   "cell_type": "code",
   "execution_count": 24,
   "metadata": {},
   "outputs": [
    {
     "name": "stdout",
     "output_type": "stream",
     "text": [
      "Total lines changed:  354358.0\n",
      "Total lines added:  265068.0\n",
      "Total lines removed:  89290.0\n"
     ]
    }
   ],
   "source": [
    "# Lines of code changed\n",
    "\n",
    "s = Search(using=es, index=git_index)\n",
    "#q = Q(\"match\", **{\"files\": 0})\n",
    "#s = s.query(~q)\n",
    "a1 = A(\"sum\", field=\"lines_changed\")\n",
    "a2 = A(\"sum\", field=\"lines_added\")\n",
    "a3 = A(\"sum\", field=\"lines_removed\")\n",
    "s.aggs.bucket(\"total_lines_changed\", a1)\n",
    "s.aggs.bucket(\"total_lines_added\", a2)\n",
    "s.aggs.bucket(\"total_lines_removed\", a3)\n",
    "s = s.extra(size=0)\n",
    "#s = s.extra(_source=[\"hash\", \"commit_date\"])\n",
    "#s = s.extra(sort={\"commit_date\":\"asc\"})\n",
    "response = s.execute()\n",
    "\n",
    "print(\"Total lines changed: \", response.aggregations.total_lines_changed.value)\n",
    "print(\"Total lines added: \", response.aggregations.total_lines_added.value)\n",
    "print(\"Total lines removed: \", response.aggregations.total_lines_removed.value)"
   ]
  },
  {
   "cell_type": "markdown",
   "metadata": {},
   "source": [
    "### Community Growth"
   ]
  },
  {
   "cell_type": "code",
   "execution_count": 43,
   "metadata": {},
   "outputs": [],
   "source": [
    "# Number of contributors\n",
    "\n",
    "s = Search(using=es, index=git_index)\n",
    "a = A(\"terms\", field=\"author_name\")\n",
    "a.metric(\"lines_changed\", \"sum\", field=\"lines_changed\")\n",
    "a.metric(\"lines_added\", \"sum\", field=\"lines_added\")\n",
    "s.aggs.bucket(\"contributors\", a)\n",
    "response = s.execute()"
   ]
  },
  {
   "cell_type": "code",
   "execution_count": 44,
   "metadata": {},
   "outputs": [
    {
     "name": "stdout",
     "output_type": "stream",
     "text": [
      "[{'key': 'Santiago Dueñas', 'doc_count': 1494, 'lines_added': {'value': 91122.0}, 'lines_changed': {'value': 123756.0}}, {'key': 'Valerio Cosentino', 'doc_count': 567, 'lines_added': {'value': 86338.0}, 'lines_changed': {'value': 138388.0}}, {'key': 'Alberto Martín', 'doc_count': 102, 'lines_added': {'value': 43562.0}, 'lines_changed': {'value': 45724.0}}, {'key': 'Alvaro del Castillo', 'doc_count': 102, 'lines_added': {'value': 30664.0}, 'lines_changed': {'value': 31438.0}}, {'key': 'Jesus M. Gonzalez-Barahona', 'doc_count': 37, 'lines_added': {'value': 2058.0}, 'lines_changed': {'value': 2176.0}}, {'key': 'valerio cosentino', 'doc_count': 12, 'lines_added': {'value': 2548.0}, 'lines_changed': {'value': 3406.0}}, {'key': 'quan', 'doc_count': 10, 'lines_added': {'value': 7186.0}, 'lines_changed': {'value': 7308.0}}, {'key': 'Miguel Ángel Fernández', 'doc_count': 6, 'lines_added': {'value': 92.0}, 'lines_changed': {'value': 380.0}}, {'key': 'David Pose Fernández', 'doc_count': 4, 'lines_added': {'value': 8.0}, 'lines_changed': {'value': 20.0}}, {'key': 'camillem', 'doc_count': 4, 'lines_added': {'value': 4.0}, 'lines_changed': {'value': 8.0}}]\n"
     ]
    }
   ],
   "source": [
    "pprint(response.aggregations.contributors.buckets)"
   ]
  },
  {
   "cell_type": "code",
   "execution_count": null,
   "metadata": {},
   "outputs": [],
   "source": []
  }
 ],
 "metadata": {
  "kernelspec": {
   "display_name": "Python 3",
   "language": "python",
   "name": "python3"
  },
  "language_info": {
   "codemirror_mode": {
    "name": "ipython",
    "version": 3
   },
   "file_extension": ".py",
   "mimetype": "text/x-python",
   "name": "python",
   "nbconvert_exporter": "python",
   "pygments_lexer": "ipython3",
   "version": "3.6.3"
  }
 },
 "nbformat": 4,
 "nbformat_minor": 2
}
